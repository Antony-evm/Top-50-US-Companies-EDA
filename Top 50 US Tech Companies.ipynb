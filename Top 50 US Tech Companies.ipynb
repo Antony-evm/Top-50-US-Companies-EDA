{
 "cells": [
  {
   "cell_type": "code",
   "execution_count": 12,
   "id": "tight-measure",
   "metadata": {},
   "outputs": [],
   "source": [
    "import pandas as pd\n",
    "import numpy as np\n",
    "import matplotlib.pyplot as plt\n",
    "import seaborn as sns\n",
    "import plotly.express as px\n",
    "import opendatasets as od\n",
    "pd.options.plotting.backend = \"plotly\"\n"
   ]
  },
  {
   "cell_type": "markdown",
   "id": "vanilla-harvey",
   "metadata": {},
   "source": [
    "## Download & Import the dataset\n",
    "\n",
    "* Requires a Kaggle API Key"
   ]
  },
  {
   "cell_type": "code",
   "execution_count": 13,
   "id": "found-dealing",
   "metadata": {},
   "outputs": [],
   "source": [
    "# od.download('https://www.kaggle.com/datasets/lamiatabassum/top-50-us-tech-companies-2022-2023-dataset')"
   ]
  },
  {
   "cell_type": "code",
   "execution_count": 63,
   "id": "velvet-spanking",
   "metadata": {},
   "outputs": [],
   "source": [
    "df = pd.read_csv('top-50-us-tech-companies-2022-2023-dataset/Top 50 US Tech Companies 2022 - 2023.csv')"
   ]
  },
  {
   "cell_type": "markdown",
   "id": "fantastic-checkout",
   "metadata": {},
   "source": [
    "## What does the dataset contain?\n",
    "\n",
    "We can see we have the top 50 US Tech companies and the dataset also provides us with some basic figures for said companies.\n",
    "\n",
    "Descriptive: Company Name, Industry, Sector, HQ State, Stock Name, Founding Year\n",
    "\n",
    "Size of the company/Financials: Annual Revenue 2022-2023 (USD in Billions), Market Cap (USD in Trillions), Annual Income Tax in 2022-2023 (USD in Billions), Employee Size"
   ]
  },
  {
   "cell_type": "code",
   "execution_count": 64,
   "id": "ceramic-consumption",
   "metadata": {},
   "outputs": [
    {
     "data": {
      "text/plain": [
       "(50, 10)"
      ]
     },
     "execution_count": 64,
     "metadata": {},
     "output_type": "execute_result"
    }
   ],
   "source": [
    "df.shape"
   ]
  },
  {
   "cell_type": "code",
   "execution_count": 65,
   "id": "fatal-latin",
   "metadata": {},
   "outputs": [
    {
     "data": {
      "text/html": [
       "<div>\n",
       "<style scoped>\n",
       "    .dataframe tbody tr th:only-of-type {\n",
       "        vertical-align: middle;\n",
       "    }\n",
       "\n",
       "    .dataframe tbody tr th {\n",
       "        vertical-align: top;\n",
       "    }\n",
       "\n",
       "    .dataframe thead th {\n",
       "        text-align: right;\n",
       "    }\n",
       "</style>\n",
       "<table border=\"1\" class=\"dataframe\">\n",
       "  <thead>\n",
       "    <tr style=\"text-align: right;\">\n",
       "      <th></th>\n",
       "      <th>Company Name</th>\n",
       "      <th>Industry</th>\n",
       "      <th>Sector</th>\n",
       "      <th>HQ State</th>\n",
       "      <th>Founding Year</th>\n",
       "      <th>Annual Revenue 2022-2023 (USD in Billions)</th>\n",
       "      <th>Market Cap (USD in Trillions)</th>\n",
       "      <th>Stock Name</th>\n",
       "      <th>Annual Income Tax in 2022-2023 (USD in Billions)</th>\n",
       "      <th>Employee Size</th>\n",
       "    </tr>\n",
       "  </thead>\n",
       "  <tbody>\n",
       "    <tr>\n",
       "      <th>0</th>\n",
       "      <td>Apple Inc.</td>\n",
       "      <td>Technology</td>\n",
       "      <td>Consumer Electronics</td>\n",
       "      <td>California</td>\n",
       "      <td>1976</td>\n",
       "      <td>387.53</td>\n",
       "      <td>2.520</td>\n",
       "      <td>AAPL</td>\n",
       "      <td>18.314</td>\n",
       "      <td>164000</td>\n",
       "    </tr>\n",
       "    <tr>\n",
       "      <th>1</th>\n",
       "      <td>Microsoft Corporation</td>\n",
       "      <td>Technology</td>\n",
       "      <td>Software Infrastructure</td>\n",
       "      <td>Washington</td>\n",
       "      <td>1975</td>\n",
       "      <td>204.09</td>\n",
       "      <td>2.037</td>\n",
       "      <td>MSFT</td>\n",
       "      <td>15.139</td>\n",
       "      <td>221000</td>\n",
       "    </tr>\n",
       "    <tr>\n",
       "      <th>2</th>\n",
       "      <td>Alphabet (Google)</td>\n",
       "      <td>Technology</td>\n",
       "      <td>Software Infrastructure</td>\n",
       "      <td>California</td>\n",
       "      <td>1998</td>\n",
       "      <td>282.83</td>\n",
       "      <td>1.350</td>\n",
       "      <td>GOOG</td>\n",
       "      <td>11.356</td>\n",
       "      <td>190234</td>\n",
       "    </tr>\n",
       "    <tr>\n",
       "      <th>3</th>\n",
       "      <td>Amazon</td>\n",
       "      <td>Technology</td>\n",
       "      <td>Software Application</td>\n",
       "      <td>Washington</td>\n",
       "      <td>1994</td>\n",
       "      <td>513.98</td>\n",
       "      <td>1.030</td>\n",
       "      <td>AMZN</td>\n",
       "      <td>-3.217</td>\n",
       "      <td>1541000</td>\n",
       "    </tr>\n",
       "    <tr>\n",
       "      <th>4</th>\n",
       "      <td>NVIDIA Corporation</td>\n",
       "      <td>Technology</td>\n",
       "      <td>Semiconductors</td>\n",
       "      <td>California</td>\n",
       "      <td>1993</td>\n",
       "      <td>26.97</td>\n",
       "      <td>0.653</td>\n",
       "      <td>NVDA</td>\n",
       "      <td>0.189</td>\n",
       "      <td>22473</td>\n",
       "    </tr>\n",
       "  </tbody>\n",
       "</table>\n",
       "</div>"
      ],
      "text/plain": [
       "            Company Name    Industry                   Sector    HQ State  \\\n",
       "0             Apple Inc.  Technology     Consumer Electronics  California   \n",
       "1  Microsoft Corporation  Technology  Software Infrastructure  Washington   \n",
       "2      Alphabet (Google)  Technology  Software Infrastructure  California   \n",
       "3                 Amazon  Technology     Software Application  Washington   \n",
       "4     NVIDIA Corporation  Technology           Semiconductors  California   \n",
       "\n",
       "   Founding Year  Annual Revenue 2022-2023 (USD in Billions)  \\\n",
       "0           1976                                      387.53   \n",
       "1           1975                                      204.09   \n",
       "2           1998                                      282.83   \n",
       "3           1994                                      513.98   \n",
       "4           1993                                       26.97   \n",
       "\n",
       "   Market Cap (USD in Trillions) Stock Name  \\\n",
       "0                          2.520       AAPL   \n",
       "1                          2.037       MSFT   \n",
       "2                          1.350       GOOG   \n",
       "3                          1.030       AMZN   \n",
       "4                          0.653       NVDA   \n",
       "\n",
       "   Annual Income Tax in 2022-2023 (USD in Billions)  Employee Size  \n",
       "0                                            18.314         164000  \n",
       "1                                            15.139         221000  \n",
       "2                                            11.356         190234  \n",
       "3                                            -3.217        1541000  \n",
       "4                                             0.189          22473  "
      ]
     },
     "execution_count": 65,
     "metadata": {},
     "output_type": "execute_result"
    }
   ],
   "source": [
    "df.head()"
   ]
  },
  {
   "cell_type": "markdown",
   "id": "human-retention",
   "metadata": {},
   "source": [
    "## Basic Statistics"
   ]
  },
  {
   "cell_type": "code",
   "execution_count": 66,
   "id": "smaller-import",
   "metadata": {
    "scrolled": true
   },
   "outputs": [
    {
     "data": {
      "text/html": [
       "<div>\n",
       "<style scoped>\n",
       "    .dataframe tbody tr th:only-of-type {\n",
       "        vertical-align: middle;\n",
       "    }\n",
       "\n",
       "    .dataframe tbody tr th {\n",
       "        vertical-align: top;\n",
       "    }\n",
       "\n",
       "    .dataframe thead th {\n",
       "        text-align: right;\n",
       "    }\n",
       "</style>\n",
       "<table border=\"1\" class=\"dataframe\">\n",
       "  <thead>\n",
       "    <tr style=\"text-align: right;\">\n",
       "      <th></th>\n",
       "      <th>Founding Year</th>\n",
       "      <th>Annual Revenue 2022-2023 (USD in Billions)</th>\n",
       "      <th>Market Cap (USD in Trillions)</th>\n",
       "      <th>Annual Income Tax in 2022-2023 (USD in Billions)</th>\n",
       "      <th>Employee Size</th>\n",
       "    </tr>\n",
       "  </thead>\n",
       "  <tbody>\n",
       "    <tr>\n",
       "      <th>count</th>\n",
       "      <td>50.000000</td>\n",
       "      <td>50.00000</td>\n",
       "      <td>50.000000</td>\n",
       "      <td>50.000000</td>\n",
       "      <td>5.000000e+01</td>\n",
       "    </tr>\n",
       "    <tr>\n",
       "      <th>mean</th>\n",
       "      <td>1984.140000</td>\n",
       "      <td>51.20440</td>\n",
       "      <td>0.252160</td>\n",
       "      <td>1.386780</td>\n",
       "      <td>8.324962e+04</td>\n",
       "    </tr>\n",
       "    <tr>\n",
       "      <th>std</th>\n",
       "      <td>24.988985</td>\n",
       "      <td>97.41288</td>\n",
       "      <td>0.490377</td>\n",
       "      <td>3.687916</td>\n",
       "      <td>2.205869e+05</td>\n",
       "    </tr>\n",
       "    <tr>\n",
       "      <th>min</th>\n",
       "      <td>1890.000000</td>\n",
       "      <td>2.06000</td>\n",
       "      <td>0.028000</td>\n",
       "      <td>-3.217000</td>\n",
       "      <td>2.993000e+03</td>\n",
       "    </tr>\n",
       "    <tr>\n",
       "      <th>25%</th>\n",
       "      <td>1977.250000</td>\n",
       "      <td>7.65250</td>\n",
       "      <td>0.051250</td>\n",
       "      <td>0.098750</td>\n",
       "      <td>1.415000e+04</td>\n",
       "    </tr>\n",
       "    <tr>\n",
       "      <th>50%</th>\n",
       "      <td>1988.500000</td>\n",
       "      <td>17.66500</td>\n",
       "      <td>0.082500</td>\n",
       "      <td>0.280500</td>\n",
       "      <td>2.472500e+04</td>\n",
       "    </tr>\n",
       "    <tr>\n",
       "      <th>75%</th>\n",
       "      <td>1999.750000</td>\n",
       "      <td>40.81500</td>\n",
       "      <td>0.160250</td>\n",
       "      <td>0.945000</td>\n",
       "      <td>7.015575e+04</td>\n",
       "    </tr>\n",
       "    <tr>\n",
       "      <th>max</th>\n",
       "      <td>2012.000000</td>\n",
       "      <td>513.98000</td>\n",
       "      <td>2.520000</td>\n",
       "      <td>18.314000</td>\n",
       "      <td>1.541000e+06</td>\n",
       "    </tr>\n",
       "  </tbody>\n",
       "</table>\n",
       "</div>"
      ],
      "text/plain": [
       "       Founding Year  Annual Revenue 2022-2023 (USD in Billions)  \\\n",
       "count      50.000000                                    50.00000   \n",
       "mean     1984.140000                                    51.20440   \n",
       "std        24.988985                                    97.41288   \n",
       "min      1890.000000                                     2.06000   \n",
       "25%      1977.250000                                     7.65250   \n",
       "50%      1988.500000                                    17.66500   \n",
       "75%      1999.750000                                    40.81500   \n",
       "max      2012.000000                                   513.98000   \n",
       "\n",
       "       Market Cap (USD in Trillions)  \\\n",
       "count                      50.000000   \n",
       "mean                        0.252160   \n",
       "std                         0.490377   \n",
       "min                         0.028000   \n",
       "25%                         0.051250   \n",
       "50%                         0.082500   \n",
       "75%                         0.160250   \n",
       "max                         2.520000   \n",
       "\n",
       "       Annual Income Tax in 2022-2023 (USD in Billions)  Employee Size  \n",
       "count                                         50.000000   5.000000e+01  \n",
       "mean                                           1.386780   8.324962e+04  \n",
       "std                                            3.687916   2.205869e+05  \n",
       "min                                           -3.217000   2.993000e+03  \n",
       "25%                                            0.098750   1.415000e+04  \n",
       "50%                                            0.280500   2.472500e+04  \n",
       "75%                                            0.945000   7.015575e+04  \n",
       "max                                           18.314000   1.541000e+06  "
      ]
     },
     "execution_count": 66,
     "metadata": {},
     "output_type": "execute_result"
    }
   ],
   "source": [
    "df.describe()"
   ]
  },
  {
   "cell_type": "code",
   "execution_count": 67,
   "id": "shared-dynamics",
   "metadata": {},
   "outputs": [
    {
     "data": {
      "text/html": [
       "<div>\n",
       "<style scoped>\n",
       "    .dataframe tbody tr th:only-of-type {\n",
       "        vertical-align: middle;\n",
       "    }\n",
       "\n",
       "    .dataframe tbody tr th {\n",
       "        vertical-align: top;\n",
       "    }\n",
       "\n",
       "    .dataframe thead th {\n",
       "        text-align: right;\n",
       "    }\n",
       "</style>\n",
       "<table border=\"1\" class=\"dataframe\">\n",
       "  <thead>\n",
       "    <tr style=\"text-align: right;\">\n",
       "      <th></th>\n",
       "      <th>Company Name</th>\n",
       "      <th>Industry</th>\n",
       "      <th>Sector</th>\n",
       "      <th>HQ State</th>\n",
       "      <th>Stock Name</th>\n",
       "    </tr>\n",
       "  </thead>\n",
       "  <tbody>\n",
       "    <tr>\n",
       "      <th>count</th>\n",
       "      <td>50</td>\n",
       "      <td>50</td>\n",
       "      <td>50</td>\n",
       "      <td>50</td>\n",
       "      <td>50</td>\n",
       "    </tr>\n",
       "    <tr>\n",
       "      <th>unique</th>\n",
       "      <td>50</td>\n",
       "      <td>1</td>\n",
       "      <td>8</td>\n",
       "      <td>13</td>\n",
       "      <td>50</td>\n",
       "    </tr>\n",
       "    <tr>\n",
       "      <th>top</th>\n",
       "      <td>Micron Technology</td>\n",
       "      <td>Technology</td>\n",
       "      <td>Software Application</td>\n",
       "      <td>California</td>\n",
       "      <td>KLAC</td>\n",
       "    </tr>\n",
       "    <tr>\n",
       "      <th>freq</th>\n",
       "      <td>1</td>\n",
       "      <td>50</td>\n",
       "      <td>15</td>\n",
       "      <td>33</td>\n",
       "      <td>1</td>\n",
       "    </tr>\n",
       "  </tbody>\n",
       "</table>\n",
       "</div>"
      ],
      "text/plain": [
       "             Company Name    Industry                Sector    HQ State  \\\n",
       "count                  50          50                    50          50   \n",
       "unique                 50           1                     8          13   \n",
       "top     Micron Technology  Technology  Software Application  California   \n",
       "freq                    1          50                    15          33   \n",
       "\n",
       "       Stock Name  \n",
       "count          50  \n",
       "unique         50  \n",
       "top          KLAC  \n",
       "freq            1  "
      ]
     },
     "execution_count": 67,
     "metadata": {},
     "output_type": "execute_result"
    }
   ],
   "source": [
    "df.describe(include=['O'])"
   ]
  },
  {
   "cell_type": "code",
   "execution_count": 69,
   "id": "driven-tribute",
   "metadata": {},
   "outputs": [
    {
     "data": {
      "text/plain": [
       "Company Name                                        0\n",
       "Industry                                            0\n",
       "Sector                                              0\n",
       "HQ State                                            0\n",
       "Founding Year                                       0\n",
       "Annual Revenue 2022-2023 (USD in Billions)          0\n",
       "Market Cap (USD in Trillions)                       0\n",
       "Stock Name                                          0\n",
       "Annual Income Tax in 2022-2023 (USD in Billions)    0\n",
       "Employee Size                                       0\n",
       "dtype: int64"
      ]
     },
     "execution_count": 69,
     "metadata": {},
     "output_type": "execute_result"
    }
   ],
   "source": [
    "## Are there any null values\n",
    "df.isnull().sum()"
   ]
  },
  {
   "cell_type": "markdown",
   "id": "monthly-religion",
   "metadata": {},
   "source": [
    "## Initial EDA"
   ]
  },
  {
   "cell_type": "code",
   "execution_count": 72,
   "id": "developmental-hierarchy",
   "metadata": {},
   "outputs": [
    {
     "data": {
      "application/vnd.plotly.v1+json": {
       "config": {
        "plotlyServerURL": "https://plot.ly"
       },
       "data": [
        {
         "domain": {
          "x": [
           0,
           1
          ],
          "y": [
           0,
           1
          ]
         },
         "hovertemplate": "label=%{label}<br>value=%{value}<extra></extra>",
         "labels": [
          "Software Application",
          "Semiconductors",
          "Software Infrastructure",
          "IT Services",
          "Computer Hardware",
          "Consumer Electronics",
          "Communication Equipments",
          "Electronic Components"
         ],
         "legendgroup": "",
         "name": "",
         "showlegend": true,
         "textinfo": "label+percent+value",
         "title": {
          "text": "Sector"
         },
         "type": "pie",
         "values": [
          15,
          14,
          12,
          3,
          3,
          1,
          1,
          1
         ]
        }
       ],
       "layout": {
        "legend": {
         "tracegroupgap": 0
        },
        "margin": {
         "t": 60
        },
        "template": {
         "data": {
          "bar": [
           {
            "error_x": {
             "color": "#2a3f5f"
            },
            "error_y": {
             "color": "#2a3f5f"
            },
            "marker": {
             "line": {
              "color": "#E5ECF6",
              "width": 0.5
             }
            },
            "type": "bar"
           }
          ],
          "barpolar": [
           {
            "marker": {
             "line": {
              "color": "#E5ECF6",
              "width": 0.5
             }
            },
            "type": "barpolar"
           }
          ],
          "carpet": [
           {
            "aaxis": {
             "endlinecolor": "#2a3f5f",
             "gridcolor": "white",
             "linecolor": "white",
             "minorgridcolor": "white",
             "startlinecolor": "#2a3f5f"
            },
            "baxis": {
             "endlinecolor": "#2a3f5f",
             "gridcolor": "white",
             "linecolor": "white",
             "minorgridcolor": "white",
             "startlinecolor": "#2a3f5f"
            },
            "type": "carpet"
           }
          ],
          "choropleth": [
           {
            "colorbar": {
             "outlinewidth": 0,
             "ticks": ""
            },
            "type": "choropleth"
           }
          ],
          "contour": [
           {
            "colorbar": {
             "outlinewidth": 0,
             "ticks": ""
            },
            "colorscale": [
             [
              0,
              "#0d0887"
             ],
             [
              0.1111111111111111,
              "#46039f"
             ],
             [
              0.2222222222222222,
              "#7201a8"
             ],
             [
              0.3333333333333333,
              "#9c179e"
             ],
             [
              0.4444444444444444,
              "#bd3786"
             ],
             [
              0.5555555555555556,
              "#d8576b"
             ],
             [
              0.6666666666666666,
              "#ed7953"
             ],
             [
              0.7777777777777778,
              "#fb9f3a"
             ],
             [
              0.8888888888888888,
              "#fdca26"
             ],
             [
              1,
              "#f0f921"
             ]
            ],
            "type": "contour"
           }
          ],
          "contourcarpet": [
           {
            "colorbar": {
             "outlinewidth": 0,
             "ticks": ""
            },
            "type": "contourcarpet"
           }
          ],
          "heatmap": [
           {
            "colorbar": {
             "outlinewidth": 0,
             "ticks": ""
            },
            "colorscale": [
             [
              0,
              "#0d0887"
             ],
             [
              0.1111111111111111,
              "#46039f"
             ],
             [
              0.2222222222222222,
              "#7201a8"
             ],
             [
              0.3333333333333333,
              "#9c179e"
             ],
             [
              0.4444444444444444,
              "#bd3786"
             ],
             [
              0.5555555555555556,
              "#d8576b"
             ],
             [
              0.6666666666666666,
              "#ed7953"
             ],
             [
              0.7777777777777778,
              "#fb9f3a"
             ],
             [
              0.8888888888888888,
              "#fdca26"
             ],
             [
              1,
              "#f0f921"
             ]
            ],
            "type": "heatmap"
           }
          ],
          "heatmapgl": [
           {
            "colorbar": {
             "outlinewidth": 0,
             "ticks": ""
            },
            "colorscale": [
             [
              0,
              "#0d0887"
             ],
             [
              0.1111111111111111,
              "#46039f"
             ],
             [
              0.2222222222222222,
              "#7201a8"
             ],
             [
              0.3333333333333333,
              "#9c179e"
             ],
             [
              0.4444444444444444,
              "#bd3786"
             ],
             [
              0.5555555555555556,
              "#d8576b"
             ],
             [
              0.6666666666666666,
              "#ed7953"
             ],
             [
              0.7777777777777778,
              "#fb9f3a"
             ],
             [
              0.8888888888888888,
              "#fdca26"
             ],
             [
              1,
              "#f0f921"
             ]
            ],
            "type": "heatmapgl"
           }
          ],
          "histogram": [
           {
            "marker": {
             "colorbar": {
              "outlinewidth": 0,
              "ticks": ""
             }
            },
            "type": "histogram"
           }
          ],
          "histogram2d": [
           {
            "colorbar": {
             "outlinewidth": 0,
             "ticks": ""
            },
            "colorscale": [
             [
              0,
              "#0d0887"
             ],
             [
              0.1111111111111111,
              "#46039f"
             ],
             [
              0.2222222222222222,
              "#7201a8"
             ],
             [
              0.3333333333333333,
              "#9c179e"
             ],
             [
              0.4444444444444444,
              "#bd3786"
             ],
             [
              0.5555555555555556,
              "#d8576b"
             ],
             [
              0.6666666666666666,
              "#ed7953"
             ],
             [
              0.7777777777777778,
              "#fb9f3a"
             ],
             [
              0.8888888888888888,
              "#fdca26"
             ],
             [
              1,
              "#f0f921"
             ]
            ],
            "type": "histogram2d"
           }
          ],
          "histogram2dcontour": [
           {
            "colorbar": {
             "outlinewidth": 0,
             "ticks": ""
            },
            "colorscale": [
             [
              0,
              "#0d0887"
             ],
             [
              0.1111111111111111,
              "#46039f"
             ],
             [
              0.2222222222222222,
              "#7201a8"
             ],
             [
              0.3333333333333333,
              "#9c179e"
             ],
             [
              0.4444444444444444,
              "#bd3786"
             ],
             [
              0.5555555555555556,
              "#d8576b"
             ],
             [
              0.6666666666666666,
              "#ed7953"
             ],
             [
              0.7777777777777778,
              "#fb9f3a"
             ],
             [
              0.8888888888888888,
              "#fdca26"
             ],
             [
              1,
              "#f0f921"
             ]
            ],
            "type": "histogram2dcontour"
           }
          ],
          "mesh3d": [
           {
            "colorbar": {
             "outlinewidth": 0,
             "ticks": ""
            },
            "type": "mesh3d"
           }
          ],
          "parcoords": [
           {
            "line": {
             "colorbar": {
              "outlinewidth": 0,
              "ticks": ""
             }
            },
            "type": "parcoords"
           }
          ],
          "pie": [
           {
            "automargin": true,
            "type": "pie"
           }
          ],
          "scatter": [
           {
            "marker": {
             "colorbar": {
              "outlinewidth": 0,
              "ticks": ""
             }
            },
            "type": "scatter"
           }
          ],
          "scatter3d": [
           {
            "line": {
             "colorbar": {
              "outlinewidth": 0,
              "ticks": ""
             }
            },
            "marker": {
             "colorbar": {
              "outlinewidth": 0,
              "ticks": ""
             }
            },
            "type": "scatter3d"
           }
          ],
          "scattercarpet": [
           {
            "marker": {
             "colorbar": {
              "outlinewidth": 0,
              "ticks": ""
             }
            },
            "type": "scattercarpet"
           }
          ],
          "scattergeo": [
           {
            "marker": {
             "colorbar": {
              "outlinewidth": 0,
              "ticks": ""
             }
            },
            "type": "scattergeo"
           }
          ],
          "scattergl": [
           {
            "marker": {
             "colorbar": {
              "outlinewidth": 0,
              "ticks": ""
             }
            },
            "type": "scattergl"
           }
          ],
          "scattermapbox": [
           {
            "marker": {
             "colorbar": {
              "outlinewidth": 0,
              "ticks": ""
             }
            },
            "type": "scattermapbox"
           }
          ],
          "scatterpolar": [
           {
            "marker": {
             "colorbar": {
              "outlinewidth": 0,
              "ticks": ""
             }
            },
            "type": "scatterpolar"
           }
          ],
          "scatterpolargl": [
           {
            "marker": {
             "colorbar": {
              "outlinewidth": 0,
              "ticks": ""
             }
            },
            "type": "scatterpolargl"
           }
          ],
          "scatterternary": [
           {
            "marker": {
             "colorbar": {
              "outlinewidth": 0,
              "ticks": ""
             }
            },
            "type": "scatterternary"
           }
          ],
          "surface": [
           {
            "colorbar": {
             "outlinewidth": 0,
             "ticks": ""
            },
            "colorscale": [
             [
              0,
              "#0d0887"
             ],
             [
              0.1111111111111111,
              "#46039f"
             ],
             [
              0.2222222222222222,
              "#7201a8"
             ],
             [
              0.3333333333333333,
              "#9c179e"
             ],
             [
              0.4444444444444444,
              "#bd3786"
             ],
             [
              0.5555555555555556,
              "#d8576b"
             ],
             [
              0.6666666666666666,
              "#ed7953"
             ],
             [
              0.7777777777777778,
              "#fb9f3a"
             ],
             [
              0.8888888888888888,
              "#fdca26"
             ],
             [
              1,
              "#f0f921"
             ]
            ],
            "type": "surface"
           }
          ],
          "table": [
           {
            "cells": {
             "fill": {
              "color": "#EBF0F8"
             },
             "line": {
              "color": "white"
             }
            },
            "header": {
             "fill": {
              "color": "#C8D4E3"
             },
             "line": {
              "color": "white"
             }
            },
            "type": "table"
           }
          ]
         },
         "layout": {
          "annotationdefaults": {
           "arrowcolor": "#2a3f5f",
           "arrowhead": 0,
           "arrowwidth": 1
          },
          "autotypenumbers": "strict",
          "coloraxis": {
           "colorbar": {
            "outlinewidth": 0,
            "ticks": ""
           }
          },
          "colorscale": {
           "diverging": [
            [
             0,
             "#8e0152"
            ],
            [
             0.1,
             "#c51b7d"
            ],
            [
             0.2,
             "#de77ae"
            ],
            [
             0.3,
             "#f1b6da"
            ],
            [
             0.4,
             "#fde0ef"
            ],
            [
             0.5,
             "#f7f7f7"
            ],
            [
             0.6,
             "#e6f5d0"
            ],
            [
             0.7,
             "#b8e186"
            ],
            [
             0.8,
             "#7fbc41"
            ],
            [
             0.9,
             "#4d9221"
            ],
            [
             1,
             "#276419"
            ]
           ],
           "sequential": [
            [
             0,
             "#0d0887"
            ],
            [
             0.1111111111111111,
             "#46039f"
            ],
            [
             0.2222222222222222,
             "#7201a8"
            ],
            [
             0.3333333333333333,
             "#9c179e"
            ],
            [
             0.4444444444444444,
             "#bd3786"
            ],
            [
             0.5555555555555556,
             "#d8576b"
            ],
            [
             0.6666666666666666,
             "#ed7953"
            ],
            [
             0.7777777777777778,
             "#fb9f3a"
            ],
            [
             0.8888888888888888,
             "#fdca26"
            ],
            [
             1,
             "#f0f921"
            ]
           ],
           "sequentialminus": [
            [
             0,
             "#0d0887"
            ],
            [
             0.1111111111111111,
             "#46039f"
            ],
            [
             0.2222222222222222,
             "#7201a8"
            ],
            [
             0.3333333333333333,
             "#9c179e"
            ],
            [
             0.4444444444444444,
             "#bd3786"
            ],
            [
             0.5555555555555556,
             "#d8576b"
            ],
            [
             0.6666666666666666,
             "#ed7953"
            ],
            [
             0.7777777777777778,
             "#fb9f3a"
            ],
            [
             0.8888888888888888,
             "#fdca26"
            ],
            [
             1,
             "#f0f921"
            ]
           ]
          },
          "colorway": [
           "#636efa",
           "#EF553B",
           "#00cc96",
           "#ab63fa",
           "#FFA15A",
           "#19d3f3",
           "#FF6692",
           "#B6E880",
           "#FF97FF",
           "#FECB52"
          ],
          "font": {
           "color": "#2a3f5f"
          },
          "geo": {
           "bgcolor": "white",
           "lakecolor": "white",
           "landcolor": "#E5ECF6",
           "showlakes": true,
           "showland": true,
           "subunitcolor": "white"
          },
          "hoverlabel": {
           "align": "left"
          },
          "hovermode": "closest",
          "mapbox": {
           "style": "light"
          },
          "paper_bgcolor": "white",
          "plot_bgcolor": "#E5ECF6",
          "polar": {
           "angularaxis": {
            "gridcolor": "white",
            "linecolor": "white",
            "ticks": ""
           },
           "bgcolor": "#E5ECF6",
           "radialaxis": {
            "gridcolor": "white",
            "linecolor": "white",
            "ticks": ""
           }
          },
          "scene": {
           "xaxis": {
            "backgroundcolor": "#E5ECF6",
            "gridcolor": "white",
            "gridwidth": 2,
            "linecolor": "white",
            "showbackground": true,
            "ticks": "",
            "zerolinecolor": "white"
           },
           "yaxis": {
            "backgroundcolor": "#E5ECF6",
            "gridcolor": "white",
            "gridwidth": 2,
            "linecolor": "white",
            "showbackground": true,
            "ticks": "",
            "zerolinecolor": "white"
           },
           "zaxis": {
            "backgroundcolor": "#E5ECF6",
            "gridcolor": "white",
            "gridwidth": 2,
            "linecolor": "white",
            "showbackground": true,
            "ticks": "",
            "zerolinecolor": "white"
           }
          },
          "shapedefaults": {
           "line": {
            "color": "#2a3f5f"
           }
          },
          "ternary": {
           "aaxis": {
            "gridcolor": "white",
            "linecolor": "white",
            "ticks": ""
           },
           "baxis": {
            "gridcolor": "white",
            "linecolor": "white",
            "ticks": ""
           },
           "bgcolor": "#E5ECF6",
           "caxis": {
            "gridcolor": "white",
            "linecolor": "white",
            "ticks": ""
           }
          },
          "title": {
           "x": 0.05
          },
          "xaxis": {
           "automargin": true,
           "gridcolor": "white",
           "linecolor": "white",
           "ticks": "",
           "title": {
            "standoff": 15
           },
           "zerolinecolor": "white",
           "zerolinewidth": 2
          },
          "yaxis": {
           "automargin": true,
           "gridcolor": "white",
           "linecolor": "white",
           "ticks": "",
           "title": {
            "standoff": 15
           },
           "zerolinecolor": "white",
           "zerolinewidth": 2
          }
         }
        }
       }
      },
      "text/html": [
       "<div>                            <div id=\"3f50c7c3-f380-47fa-bfda-ad102e1f57e8\" class=\"plotly-graph-div\" style=\"height:525px; width:100%;\"></div>            <script type=\"text/javascript\">                require([\"plotly\"], function(Plotly) {                    window.PLOTLYENV=window.PLOTLYENV || {};                                    if (document.getElementById(\"3f50c7c3-f380-47fa-bfda-ad102e1f57e8\")) {                    Plotly.newPlot(                        \"3f50c7c3-f380-47fa-bfda-ad102e1f57e8\",                        [{\"domain\": {\"x\": [0.0, 1.0], \"y\": [0.0, 1.0]}, \"hovertemplate\": \"label=%{label}<br>value=%{value}<extra></extra>\", \"labels\": [\"Software Application\", \"Semiconductors\", \"Software Infrastructure\", \"IT Services\", \"Computer Hardware\", \"Consumer Electronics\", \"Communication Equipments\", \"Electronic Components\"], \"legendgroup\": \"\", \"name\": \"\", \"showlegend\": true, \"textinfo\": \"label+percent+value\", \"title\": {\"text\": \"Sector\"}, \"type\": \"pie\", \"values\": [15, 14, 12, 3, 3, 1, 1, 1]}],                        {\"legend\": {\"tracegroupgap\": 0}, \"margin\": {\"t\": 60}, \"template\": {\"data\": {\"bar\": [{\"error_x\": {\"color\": \"#2a3f5f\"}, \"error_y\": {\"color\": \"#2a3f5f\"}, \"marker\": {\"line\": {\"color\": \"#E5ECF6\", \"width\": 0.5}}, \"type\": \"bar\"}], \"barpolar\": [{\"marker\": {\"line\": {\"color\": \"#E5ECF6\", \"width\": 0.5}}, \"type\": \"barpolar\"}], \"carpet\": [{\"aaxis\": {\"endlinecolor\": \"#2a3f5f\", \"gridcolor\": \"white\", \"linecolor\": \"white\", \"minorgridcolor\": \"white\", \"startlinecolor\": \"#2a3f5f\"}, \"baxis\": {\"endlinecolor\": \"#2a3f5f\", \"gridcolor\": \"white\", \"linecolor\": \"white\", \"minorgridcolor\": \"white\", \"startlinecolor\": \"#2a3f5f\"}, \"type\": \"carpet\"}], \"choropleth\": [{\"colorbar\": {\"outlinewidth\": 0, \"ticks\": \"\"}, \"type\": \"choropleth\"}], \"contour\": [{\"colorbar\": {\"outlinewidth\": 0, \"ticks\": \"\"}, \"colorscale\": [[0.0, \"#0d0887\"], [0.1111111111111111, \"#46039f\"], [0.2222222222222222, \"#7201a8\"], [0.3333333333333333, \"#9c179e\"], [0.4444444444444444, \"#bd3786\"], [0.5555555555555556, \"#d8576b\"], [0.6666666666666666, \"#ed7953\"], [0.7777777777777778, \"#fb9f3a\"], [0.8888888888888888, \"#fdca26\"], [1.0, \"#f0f921\"]], \"type\": \"contour\"}], \"contourcarpet\": [{\"colorbar\": {\"outlinewidth\": 0, \"ticks\": \"\"}, \"type\": \"contourcarpet\"}], \"heatmap\": [{\"colorbar\": {\"outlinewidth\": 0, \"ticks\": \"\"}, \"colorscale\": [[0.0, \"#0d0887\"], [0.1111111111111111, \"#46039f\"], [0.2222222222222222, \"#7201a8\"], [0.3333333333333333, \"#9c179e\"], [0.4444444444444444, \"#bd3786\"], [0.5555555555555556, \"#d8576b\"], [0.6666666666666666, \"#ed7953\"], [0.7777777777777778, \"#fb9f3a\"], [0.8888888888888888, \"#fdca26\"], [1.0, \"#f0f921\"]], \"type\": \"heatmap\"}], \"heatmapgl\": [{\"colorbar\": {\"outlinewidth\": 0, \"ticks\": \"\"}, \"colorscale\": [[0.0, \"#0d0887\"], [0.1111111111111111, \"#46039f\"], [0.2222222222222222, \"#7201a8\"], [0.3333333333333333, \"#9c179e\"], [0.4444444444444444, \"#bd3786\"], [0.5555555555555556, \"#d8576b\"], [0.6666666666666666, \"#ed7953\"], [0.7777777777777778, \"#fb9f3a\"], [0.8888888888888888, \"#fdca26\"], [1.0, \"#f0f921\"]], \"type\": \"heatmapgl\"}], \"histogram\": [{\"marker\": {\"colorbar\": {\"outlinewidth\": 0, \"ticks\": \"\"}}, \"type\": \"histogram\"}], \"histogram2d\": [{\"colorbar\": {\"outlinewidth\": 0, \"ticks\": \"\"}, \"colorscale\": [[0.0, \"#0d0887\"], [0.1111111111111111, \"#46039f\"], [0.2222222222222222, \"#7201a8\"], [0.3333333333333333, \"#9c179e\"], [0.4444444444444444, \"#bd3786\"], [0.5555555555555556, \"#d8576b\"], [0.6666666666666666, \"#ed7953\"], [0.7777777777777778, \"#fb9f3a\"], [0.8888888888888888, \"#fdca26\"], [1.0, \"#f0f921\"]], \"type\": \"histogram2d\"}], \"histogram2dcontour\": [{\"colorbar\": {\"outlinewidth\": 0, \"ticks\": \"\"}, \"colorscale\": [[0.0, \"#0d0887\"], [0.1111111111111111, \"#46039f\"], [0.2222222222222222, \"#7201a8\"], [0.3333333333333333, \"#9c179e\"], [0.4444444444444444, \"#bd3786\"], [0.5555555555555556, \"#d8576b\"], [0.6666666666666666, \"#ed7953\"], [0.7777777777777778, \"#fb9f3a\"], [0.8888888888888888, \"#fdca26\"], [1.0, \"#f0f921\"]], \"type\": \"histogram2dcontour\"}], \"mesh3d\": [{\"colorbar\": {\"outlinewidth\": 0, \"ticks\": \"\"}, \"type\": \"mesh3d\"}], \"parcoords\": [{\"line\": {\"colorbar\": {\"outlinewidth\": 0, \"ticks\": \"\"}}, \"type\": \"parcoords\"}], \"pie\": [{\"automargin\": true, \"type\": \"pie\"}], \"scatter\": [{\"marker\": {\"colorbar\": {\"outlinewidth\": 0, \"ticks\": \"\"}}, \"type\": \"scatter\"}], \"scatter3d\": [{\"line\": {\"colorbar\": {\"outlinewidth\": 0, \"ticks\": \"\"}}, \"marker\": {\"colorbar\": {\"outlinewidth\": 0, \"ticks\": \"\"}}, \"type\": \"scatter3d\"}], \"scattercarpet\": [{\"marker\": {\"colorbar\": {\"outlinewidth\": 0, \"ticks\": \"\"}}, \"type\": \"scattercarpet\"}], \"scattergeo\": [{\"marker\": {\"colorbar\": {\"outlinewidth\": 0, \"ticks\": \"\"}}, \"type\": \"scattergeo\"}], \"scattergl\": [{\"marker\": {\"colorbar\": {\"outlinewidth\": 0, \"ticks\": \"\"}}, \"type\": \"scattergl\"}], \"scattermapbox\": [{\"marker\": {\"colorbar\": {\"outlinewidth\": 0, \"ticks\": \"\"}}, \"type\": \"scattermapbox\"}], \"scatterpolar\": [{\"marker\": {\"colorbar\": {\"outlinewidth\": 0, \"ticks\": \"\"}}, \"type\": \"scatterpolar\"}], \"scatterpolargl\": [{\"marker\": {\"colorbar\": {\"outlinewidth\": 0, \"ticks\": \"\"}}, \"type\": \"scatterpolargl\"}], \"scatterternary\": [{\"marker\": {\"colorbar\": {\"outlinewidth\": 0, \"ticks\": \"\"}}, \"type\": \"scatterternary\"}], \"surface\": [{\"colorbar\": {\"outlinewidth\": 0, \"ticks\": \"\"}, \"colorscale\": [[0.0, \"#0d0887\"], [0.1111111111111111, \"#46039f\"], [0.2222222222222222, \"#7201a8\"], [0.3333333333333333, \"#9c179e\"], [0.4444444444444444, \"#bd3786\"], [0.5555555555555556, \"#d8576b\"], [0.6666666666666666, \"#ed7953\"], [0.7777777777777778, \"#fb9f3a\"], [0.8888888888888888, \"#fdca26\"], [1.0, \"#f0f921\"]], \"type\": \"surface\"}], \"table\": [{\"cells\": {\"fill\": {\"color\": \"#EBF0F8\"}, \"line\": {\"color\": \"white\"}}, \"header\": {\"fill\": {\"color\": \"#C8D4E3\"}, \"line\": {\"color\": \"white\"}}, \"type\": \"table\"}]}, \"layout\": {\"annotationdefaults\": {\"arrowcolor\": \"#2a3f5f\", \"arrowhead\": 0, \"arrowwidth\": 1}, \"autotypenumbers\": \"strict\", \"coloraxis\": {\"colorbar\": {\"outlinewidth\": 0, \"ticks\": \"\"}}, \"colorscale\": {\"diverging\": [[0, \"#8e0152\"], [0.1, \"#c51b7d\"], [0.2, \"#de77ae\"], [0.3, \"#f1b6da\"], [0.4, \"#fde0ef\"], [0.5, \"#f7f7f7\"], [0.6, \"#e6f5d0\"], [0.7, \"#b8e186\"], [0.8, \"#7fbc41\"], [0.9, \"#4d9221\"], [1, \"#276419\"]], \"sequential\": [[0.0, \"#0d0887\"], [0.1111111111111111, \"#46039f\"], [0.2222222222222222, \"#7201a8\"], [0.3333333333333333, \"#9c179e\"], [0.4444444444444444, \"#bd3786\"], [0.5555555555555556, \"#d8576b\"], [0.6666666666666666, \"#ed7953\"], [0.7777777777777778, \"#fb9f3a\"], [0.8888888888888888, \"#fdca26\"], [1.0, \"#f0f921\"]], \"sequentialminus\": [[0.0, \"#0d0887\"], [0.1111111111111111, \"#46039f\"], [0.2222222222222222, \"#7201a8\"], [0.3333333333333333, \"#9c179e\"], [0.4444444444444444, \"#bd3786\"], [0.5555555555555556, \"#d8576b\"], [0.6666666666666666, \"#ed7953\"], [0.7777777777777778, \"#fb9f3a\"], [0.8888888888888888, \"#fdca26\"], [1.0, \"#f0f921\"]]}, \"colorway\": [\"#636efa\", \"#EF553B\", \"#00cc96\", \"#ab63fa\", \"#FFA15A\", \"#19d3f3\", \"#FF6692\", \"#B6E880\", \"#FF97FF\", \"#FECB52\"], \"font\": {\"color\": \"#2a3f5f\"}, \"geo\": {\"bgcolor\": \"white\", \"lakecolor\": \"white\", \"landcolor\": \"#E5ECF6\", \"showlakes\": true, \"showland\": true, \"subunitcolor\": \"white\"}, \"hoverlabel\": {\"align\": \"left\"}, \"hovermode\": \"closest\", \"mapbox\": {\"style\": \"light\"}, \"paper_bgcolor\": \"white\", \"plot_bgcolor\": \"#E5ECF6\", \"polar\": {\"angularaxis\": {\"gridcolor\": \"white\", \"linecolor\": \"white\", \"ticks\": \"\"}, \"bgcolor\": \"#E5ECF6\", \"radialaxis\": {\"gridcolor\": \"white\", \"linecolor\": \"white\", \"ticks\": \"\"}}, \"scene\": {\"xaxis\": {\"backgroundcolor\": \"#E5ECF6\", \"gridcolor\": \"white\", \"gridwidth\": 2, \"linecolor\": \"white\", \"showbackground\": true, \"ticks\": \"\", \"zerolinecolor\": \"white\"}, \"yaxis\": {\"backgroundcolor\": \"#E5ECF6\", \"gridcolor\": \"white\", \"gridwidth\": 2, \"linecolor\": \"white\", \"showbackground\": true, \"ticks\": \"\", \"zerolinecolor\": \"white\"}, \"zaxis\": {\"backgroundcolor\": \"#E5ECF6\", \"gridcolor\": \"white\", \"gridwidth\": 2, \"linecolor\": \"white\", \"showbackground\": true, \"ticks\": \"\", \"zerolinecolor\": \"white\"}}, \"shapedefaults\": {\"line\": {\"color\": \"#2a3f5f\"}}, \"ternary\": {\"aaxis\": {\"gridcolor\": \"white\", \"linecolor\": \"white\", \"ticks\": \"\"}, \"baxis\": {\"gridcolor\": \"white\", \"linecolor\": \"white\", \"ticks\": \"\"}, \"bgcolor\": \"#E5ECF6\", \"caxis\": {\"gridcolor\": \"white\", \"linecolor\": \"white\", \"ticks\": \"\"}}, \"title\": {\"x\": 0.05}, \"xaxis\": {\"automargin\": true, \"gridcolor\": \"white\", \"linecolor\": \"white\", \"ticks\": \"\", \"title\": {\"standoff\": 15}, \"zerolinecolor\": \"white\", \"zerolinewidth\": 2}, \"yaxis\": {\"automargin\": true, \"gridcolor\": \"white\", \"linecolor\": \"white\", \"ticks\": \"\", \"title\": {\"standoff\": 15}, \"zerolinecolor\": \"white\", \"zerolinewidth\": 2}}}},                        {\"responsive\": true}                    ).then(function(){\n",
       "                            \n",
       "var gd = document.getElementById('3f50c7c3-f380-47fa-bfda-ad102e1f57e8');\n",
       "var x = new MutationObserver(function (mutations, observer) {{\n",
       "        var display = window.getComputedStyle(gd).display;\n",
       "        if (!display || display === 'none') {{\n",
       "            console.log([gd, 'removed!']);\n",
       "            Plotly.purge(gd);\n",
       "            observer.disconnect();\n",
       "        }}\n",
       "}});\n",
       "\n",
       "// Listen for the removal of the full notebook cells\n",
       "var notebookContainer = gd.closest('#notebook-container');\n",
       "if (notebookContainer) {{\n",
       "    x.observe(notebookContainer, {childList: true});\n",
       "}}\n",
       "\n",
       "// Listen for the clearing of the current output cell\n",
       "var outputEl = gd.closest('.output');\n",
       "if (outputEl) {{\n",
       "    x.observe(outputEl, {childList: true});\n",
       "}}\n",
       "\n",
       "                        })                };                });            </script>        </div>"
      ]
     },
     "metadata": {},
     "output_type": "display_data"
    }
   ],
   "source": [
    "Sector = df['Sector'].value_counts()\n",
    "\n",
    "fig = px.pie(names = Sector.index, values = Sector.values)\n",
    "fig.update_traces(textinfo='label+percent+value', title= 'Sector')\n",
    "fig.show()"
   ]
  },
  {
   "cell_type": "code",
   "execution_count": 75,
   "id": "identical-cambodia",
   "metadata": {},
   "outputs": [],
   "source": [
    "state_code = {'Alabama': 'AL',\n",
    "        'Alaska': 'AK',\n",
    "        'Arizona': 'AZ',\n",
    "        'Arkansas': 'AR',\n",
    "        'California': 'CA',\n",
    "        'Colorado': 'CO',\n",
    "        'Connecticut': 'CT',\n",
    "        'Delaware': 'DE',\n",
    "        'District of Columbia': 'DC',\n",
    "        'Florida': 'FL',\n",
    "        'Georgia': 'GA',\n",
    "        'Hawaii': 'HI',\n",
    "        'Idaho': 'ID',\n",
    "        'Illinois': 'IL',\n",
    "        'Indiana': 'IN',\n",
    "        'Iowa': 'IA',\n",
    "        'Kansas': 'KS',\n",
    "        'Kentucky': 'KY',\n",
    "        'Louisiana': 'LA',\n",
    "        'Maine': 'ME',\n",
    "        'Maryland': 'MD',\n",
    "        'Massachusetts': 'MA',\n",
    "        'Michigan': 'MI',\n",
    "        'Minnesota': 'MN',\n",
    "        'Mississippi': 'MS',\n",
    "        'Missouri': 'MO',\n",
    "        'Montana': 'MT',\n",
    "        'Nebraska': 'NE',\n",
    "        'Nevada': 'NV',\n",
    "        'New Hampshire': 'NH',\n",
    "        'New Jersey': 'NJ',\n",
    "        'New Mexico': 'NM',\n",
    "        'New York': 'NY',\n",
    "        'North Carolina': 'NC',\n",
    "        'North Dakota': 'ND',\n",
    "        'Ohio': 'OH',\n",
    "        'Oklahoma': 'OK',\n",
    "        'Oregon': 'OR',\n",
    "        'Pennsylvania': 'PA',\n",
    "        'Rhode Island': 'RI',\n",
    "        'South Carolina': 'SC',\n",
    "        'South Dakota': 'SD',\n",
    "        'Tennessee': 'TN',\n",
    "        'Texas': 'TX',\n",
    "        'Utah': 'UT',\n",
    "        'Vermont': 'VT',\n",
    "        'Virginia': 'VA',\n",
    "        'Washington': 'WA',\n",
    "        'West Virginia': 'WV',\n",
    "        'Wisconsin': 'WI',\n",
    "        'Wyoming': 'WY'}"
   ]
  },
  {
   "cell_type": "code",
   "execution_count": 78,
   "id": "afraid-share",
   "metadata": {},
   "outputs": [],
   "source": [
    "df['HQ State Code'] = df['HQ State'].map(state_code)"
   ]
  },
  {
   "cell_type": "code",
   "execution_count": 83,
   "id": "academic-riverside",
   "metadata": {},
   "outputs": [],
   "source": [
    "volume_per_area = (df[['HQ State Code','HQ State','Company Name']]\n",
    "                   .groupby(['HQ State Code','HQ State'],as_index=False)\n",
    "                   .count()\n",
    "                   .rename(columns={'Company Name':'Volume'})\n",
    "                  )"
   ]
  },
  {
   "cell_type": "code",
   "execution_count": 113,
   "id": "municipal-settlement",
   "metadata": {},
   "outputs": [
    {
     "data": {
      "application/vnd.plotly.v1+json": {
       "config": {
        "plotlyServerURL": "https://plot.ly"
       },
       "data": [
        {
         "coloraxis": "coloraxis",
         "geo": "geo",
         "hovertemplate": "<b>%{hovertext}</b><br><br>HQ State Code=%{location}<br>Volume=%{z}<extra></extra>",
         "hovertext": [
          "Arizona",
          "California",
          "Connecticut",
          "Florida",
          "Idaho",
          "Massachusetts",
          "Montana",
          "North Carolina",
          "New Jersey",
          "New York",
          "Texas",
          "Washington",
          "Wisconsin"
         ],
         "locationmode": "USA-states",
         "locations": [
          "AZ",
          "CA",
          "CT",
          "FL",
          "ID",
          "MA",
          "MT",
          "NC",
          "NJ",
          "NY",
          "TX",
          "WA",
          "WI"
         ],
         "name": "",
         "type": "choropleth",
         "z": [
          1,
          33,
          1,
          1,
          1,
          1,
          1,
          1,
          1,
          2,
          4,
          2,
          1
         ]
        },
        {
         "locationmode": "USA-states",
         "locations": [
          "AZ",
          "CA",
          "CT",
          "FL",
          "ID",
          "MA",
          "MT",
          "NC",
          "NJ",
          "NY",
          "TX",
          "WA",
          "WI"
         ],
         "mode": "text",
         "text": [
          "AZ",
          "CA",
          "CT",
          "FL",
          "ID",
          "MA",
          "MT",
          "NC",
          "NJ",
          "NY",
          "TX",
          "WA",
          "WI"
         ],
         "type": "scattergeo"
        }
       ],
       "layout": {
        "coloraxis": {
         "colorbar": {
          "title": {
           "text": "Volume"
          }
         },
         "colorscale": [
          [
           0,
           "rgb(94,79,162)"
          ],
          [
           0.1,
           "rgb(50,136,189)"
          ],
          [
           0.2,
           "rgb(102,194,165)"
          ],
          [
           0.3,
           "rgb(171,221,164)"
          ],
          [
           0.4,
           "rgb(230,245,152)"
          ],
          [
           0.5,
           "rgb(255,255,191)"
          ],
          [
           0.6,
           "rgb(254,224,139)"
          ],
          [
           0.7,
           "rgb(253,174,97)"
          ],
          [
           0.8,
           "rgb(244,109,67)"
          ],
          [
           0.9,
           "rgb(213,62,79)"
          ],
          [
           1,
           "rgb(158,1,66)"
          ]
         ]
        },
        "geo": {
         "center": {},
         "domain": {
          "x": [
           0,
           1
          ],
          "y": [
           0,
           1
          ]
         },
         "scope": "usa"
        },
        "legend": {
         "tracegroupgap": 0
        },
        "margin": {
         "t": 60
        },
        "template": {
         "data": {
          "bar": [
           {
            "error_x": {
             "color": "#2a3f5f"
            },
            "error_y": {
             "color": "#2a3f5f"
            },
            "marker": {
             "line": {
              "color": "#E5ECF6",
              "width": 0.5
             }
            },
            "type": "bar"
           }
          ],
          "barpolar": [
           {
            "marker": {
             "line": {
              "color": "#E5ECF6",
              "width": 0.5
             }
            },
            "type": "barpolar"
           }
          ],
          "carpet": [
           {
            "aaxis": {
             "endlinecolor": "#2a3f5f",
             "gridcolor": "white",
             "linecolor": "white",
             "minorgridcolor": "white",
             "startlinecolor": "#2a3f5f"
            },
            "baxis": {
             "endlinecolor": "#2a3f5f",
             "gridcolor": "white",
             "linecolor": "white",
             "minorgridcolor": "white",
             "startlinecolor": "#2a3f5f"
            },
            "type": "carpet"
           }
          ],
          "choropleth": [
           {
            "colorbar": {
             "outlinewidth": 0,
             "ticks": ""
            },
            "type": "choropleth"
           }
          ],
          "contour": [
           {
            "colorbar": {
             "outlinewidth": 0,
             "ticks": ""
            },
            "colorscale": [
             [
              0,
              "#0d0887"
             ],
             [
              0.1111111111111111,
              "#46039f"
             ],
             [
              0.2222222222222222,
              "#7201a8"
             ],
             [
              0.3333333333333333,
              "#9c179e"
             ],
             [
              0.4444444444444444,
              "#bd3786"
             ],
             [
              0.5555555555555556,
              "#d8576b"
             ],
             [
              0.6666666666666666,
              "#ed7953"
             ],
             [
              0.7777777777777778,
              "#fb9f3a"
             ],
             [
              0.8888888888888888,
              "#fdca26"
             ],
             [
              1,
              "#f0f921"
             ]
            ],
            "type": "contour"
           }
          ],
          "contourcarpet": [
           {
            "colorbar": {
             "outlinewidth": 0,
             "ticks": ""
            },
            "type": "contourcarpet"
           }
          ],
          "heatmap": [
           {
            "colorbar": {
             "outlinewidth": 0,
             "ticks": ""
            },
            "colorscale": [
             [
              0,
              "#0d0887"
             ],
             [
              0.1111111111111111,
              "#46039f"
             ],
             [
              0.2222222222222222,
              "#7201a8"
             ],
             [
              0.3333333333333333,
              "#9c179e"
             ],
             [
              0.4444444444444444,
              "#bd3786"
             ],
             [
              0.5555555555555556,
              "#d8576b"
             ],
             [
              0.6666666666666666,
              "#ed7953"
             ],
             [
              0.7777777777777778,
              "#fb9f3a"
             ],
             [
              0.8888888888888888,
              "#fdca26"
             ],
             [
              1,
              "#f0f921"
             ]
            ],
            "type": "heatmap"
           }
          ],
          "heatmapgl": [
           {
            "colorbar": {
             "outlinewidth": 0,
             "ticks": ""
            },
            "colorscale": [
             [
              0,
              "#0d0887"
             ],
             [
              0.1111111111111111,
              "#46039f"
             ],
             [
              0.2222222222222222,
              "#7201a8"
             ],
             [
              0.3333333333333333,
              "#9c179e"
             ],
             [
              0.4444444444444444,
              "#bd3786"
             ],
             [
              0.5555555555555556,
              "#d8576b"
             ],
             [
              0.6666666666666666,
              "#ed7953"
             ],
             [
              0.7777777777777778,
              "#fb9f3a"
             ],
             [
              0.8888888888888888,
              "#fdca26"
             ],
             [
              1,
              "#f0f921"
             ]
            ],
            "type": "heatmapgl"
           }
          ],
          "histogram": [
           {
            "marker": {
             "colorbar": {
              "outlinewidth": 0,
              "ticks": ""
             }
            },
            "type": "histogram"
           }
          ],
          "histogram2d": [
           {
            "colorbar": {
             "outlinewidth": 0,
             "ticks": ""
            },
            "colorscale": [
             [
              0,
              "#0d0887"
             ],
             [
              0.1111111111111111,
              "#46039f"
             ],
             [
              0.2222222222222222,
              "#7201a8"
             ],
             [
              0.3333333333333333,
              "#9c179e"
             ],
             [
              0.4444444444444444,
              "#bd3786"
             ],
             [
              0.5555555555555556,
              "#d8576b"
             ],
             [
              0.6666666666666666,
              "#ed7953"
             ],
             [
              0.7777777777777778,
              "#fb9f3a"
             ],
             [
              0.8888888888888888,
              "#fdca26"
             ],
             [
              1,
              "#f0f921"
             ]
            ],
            "type": "histogram2d"
           }
          ],
          "histogram2dcontour": [
           {
            "colorbar": {
             "outlinewidth": 0,
             "ticks": ""
            },
            "colorscale": [
             [
              0,
              "#0d0887"
             ],
             [
              0.1111111111111111,
              "#46039f"
             ],
             [
              0.2222222222222222,
              "#7201a8"
             ],
             [
              0.3333333333333333,
              "#9c179e"
             ],
             [
              0.4444444444444444,
              "#bd3786"
             ],
             [
              0.5555555555555556,
              "#d8576b"
             ],
             [
              0.6666666666666666,
              "#ed7953"
             ],
             [
              0.7777777777777778,
              "#fb9f3a"
             ],
             [
              0.8888888888888888,
              "#fdca26"
             ],
             [
              1,
              "#f0f921"
             ]
            ],
            "type": "histogram2dcontour"
           }
          ],
          "mesh3d": [
           {
            "colorbar": {
             "outlinewidth": 0,
             "ticks": ""
            },
            "type": "mesh3d"
           }
          ],
          "parcoords": [
           {
            "line": {
             "colorbar": {
              "outlinewidth": 0,
              "ticks": ""
             }
            },
            "type": "parcoords"
           }
          ],
          "pie": [
           {
            "automargin": true,
            "type": "pie"
           }
          ],
          "scatter": [
           {
            "marker": {
             "colorbar": {
              "outlinewidth": 0,
              "ticks": ""
             }
            },
            "type": "scatter"
           }
          ],
          "scatter3d": [
           {
            "line": {
             "colorbar": {
              "outlinewidth": 0,
              "ticks": ""
             }
            },
            "marker": {
             "colorbar": {
              "outlinewidth": 0,
              "ticks": ""
             }
            },
            "type": "scatter3d"
           }
          ],
          "scattercarpet": [
           {
            "marker": {
             "colorbar": {
              "outlinewidth": 0,
              "ticks": ""
             }
            },
            "type": "scattercarpet"
           }
          ],
          "scattergeo": [
           {
            "marker": {
             "colorbar": {
              "outlinewidth": 0,
              "ticks": ""
             }
            },
            "type": "scattergeo"
           }
          ],
          "scattergl": [
           {
            "marker": {
             "colorbar": {
              "outlinewidth": 0,
              "ticks": ""
             }
            },
            "type": "scattergl"
           }
          ],
          "scattermapbox": [
           {
            "marker": {
             "colorbar": {
              "outlinewidth": 0,
              "ticks": ""
             }
            },
            "type": "scattermapbox"
           }
          ],
          "scatterpolar": [
           {
            "marker": {
             "colorbar": {
              "outlinewidth": 0,
              "ticks": ""
             }
            },
            "type": "scatterpolar"
           }
          ],
          "scatterpolargl": [
           {
            "marker": {
             "colorbar": {
              "outlinewidth": 0,
              "ticks": ""
             }
            },
            "type": "scatterpolargl"
           }
          ],
          "scatterternary": [
           {
            "marker": {
             "colorbar": {
              "outlinewidth": 0,
              "ticks": ""
             }
            },
            "type": "scatterternary"
           }
          ],
          "surface": [
           {
            "colorbar": {
             "outlinewidth": 0,
             "ticks": ""
            },
            "colorscale": [
             [
              0,
              "#0d0887"
             ],
             [
              0.1111111111111111,
              "#46039f"
             ],
             [
              0.2222222222222222,
              "#7201a8"
             ],
             [
              0.3333333333333333,
              "#9c179e"
             ],
             [
              0.4444444444444444,
              "#bd3786"
             ],
             [
              0.5555555555555556,
              "#d8576b"
             ],
             [
              0.6666666666666666,
              "#ed7953"
             ],
             [
              0.7777777777777778,
              "#fb9f3a"
             ],
             [
              0.8888888888888888,
              "#fdca26"
             ],
             [
              1,
              "#f0f921"
             ]
            ],
            "type": "surface"
           }
          ],
          "table": [
           {
            "cells": {
             "fill": {
              "color": "#EBF0F8"
             },
             "line": {
              "color": "white"
             }
            },
            "header": {
             "fill": {
              "color": "#C8D4E3"
             },
             "line": {
              "color": "white"
             }
            },
            "type": "table"
           }
          ]
         },
         "layout": {
          "annotationdefaults": {
           "arrowcolor": "#2a3f5f",
           "arrowhead": 0,
           "arrowwidth": 1
          },
          "autotypenumbers": "strict",
          "coloraxis": {
           "colorbar": {
            "outlinewidth": 0,
            "ticks": ""
           }
          },
          "colorscale": {
           "diverging": [
            [
             0,
             "#8e0152"
            ],
            [
             0.1,
             "#c51b7d"
            ],
            [
             0.2,
             "#de77ae"
            ],
            [
             0.3,
             "#f1b6da"
            ],
            [
             0.4,
             "#fde0ef"
            ],
            [
             0.5,
             "#f7f7f7"
            ],
            [
             0.6,
             "#e6f5d0"
            ],
            [
             0.7,
             "#b8e186"
            ],
            [
             0.8,
             "#7fbc41"
            ],
            [
             0.9,
             "#4d9221"
            ],
            [
             1,
             "#276419"
            ]
           ],
           "sequential": [
            [
             0,
             "#0d0887"
            ],
            [
             0.1111111111111111,
             "#46039f"
            ],
            [
             0.2222222222222222,
             "#7201a8"
            ],
            [
             0.3333333333333333,
             "#9c179e"
            ],
            [
             0.4444444444444444,
             "#bd3786"
            ],
            [
             0.5555555555555556,
             "#d8576b"
            ],
            [
             0.6666666666666666,
             "#ed7953"
            ],
            [
             0.7777777777777778,
             "#fb9f3a"
            ],
            [
             0.8888888888888888,
             "#fdca26"
            ],
            [
             1,
             "#f0f921"
            ]
           ],
           "sequentialminus": [
            [
             0,
             "#0d0887"
            ],
            [
             0.1111111111111111,
             "#46039f"
            ],
            [
             0.2222222222222222,
             "#7201a8"
            ],
            [
             0.3333333333333333,
             "#9c179e"
            ],
            [
             0.4444444444444444,
             "#bd3786"
            ],
            [
             0.5555555555555556,
             "#d8576b"
            ],
            [
             0.6666666666666666,
             "#ed7953"
            ],
            [
             0.7777777777777778,
             "#fb9f3a"
            ],
            [
             0.8888888888888888,
             "#fdca26"
            ],
            [
             1,
             "#f0f921"
            ]
           ]
          },
          "colorway": [
           "#636efa",
           "#EF553B",
           "#00cc96",
           "#ab63fa",
           "#FFA15A",
           "#19d3f3",
           "#FF6692",
           "#B6E880",
           "#FF97FF",
           "#FECB52"
          ],
          "font": {
           "color": "#2a3f5f"
          },
          "geo": {
           "bgcolor": "white",
           "lakecolor": "white",
           "landcolor": "#E5ECF6",
           "showlakes": true,
           "showland": true,
           "subunitcolor": "white"
          },
          "hoverlabel": {
           "align": "left"
          },
          "hovermode": "closest",
          "mapbox": {
           "style": "light"
          },
          "paper_bgcolor": "white",
          "plot_bgcolor": "#E5ECF6",
          "polar": {
           "angularaxis": {
            "gridcolor": "white",
            "linecolor": "white",
            "ticks": ""
           },
           "bgcolor": "#E5ECF6",
           "radialaxis": {
            "gridcolor": "white",
            "linecolor": "white",
            "ticks": ""
           }
          },
          "scene": {
           "xaxis": {
            "backgroundcolor": "#E5ECF6",
            "gridcolor": "white",
            "gridwidth": 2,
            "linecolor": "white",
            "showbackground": true,
            "ticks": "",
            "zerolinecolor": "white"
           },
           "yaxis": {
            "backgroundcolor": "#E5ECF6",
            "gridcolor": "white",
            "gridwidth": 2,
            "linecolor": "white",
            "showbackground": true,
            "ticks": "",
            "zerolinecolor": "white"
           },
           "zaxis": {
            "backgroundcolor": "#E5ECF6",
            "gridcolor": "white",
            "gridwidth": 2,
            "linecolor": "white",
            "showbackground": true,
            "ticks": "",
            "zerolinecolor": "white"
           }
          },
          "shapedefaults": {
           "line": {
            "color": "#2a3f5f"
           }
          },
          "ternary": {
           "aaxis": {
            "gridcolor": "white",
            "linecolor": "white",
            "ticks": ""
           },
           "baxis": {
            "gridcolor": "white",
            "linecolor": "white",
            "ticks": ""
           },
           "bgcolor": "#E5ECF6",
           "caxis": {
            "gridcolor": "white",
            "linecolor": "white",
            "ticks": ""
           }
          },
          "title": {
           "x": 0.05
          },
          "xaxis": {
           "automargin": true,
           "gridcolor": "white",
           "linecolor": "white",
           "ticks": "",
           "title": {
            "standoff": 15
           },
           "zerolinecolor": "white",
           "zerolinewidth": 2
          },
          "yaxis": {
           "automargin": true,
           "gridcolor": "white",
           "linecolor": "white",
           "ticks": "",
           "title": {
            "standoff": 15
           },
           "zerolinecolor": "white",
           "zerolinewidth": 2
          }
         }
        },
        "title": {
         "text": "Volume of Companies per State",
         "x": 0.5,
         "xanchor": "center",
         "yanchor": "top"
        }
       }
      },
      "text/html": [
       "<div>                            <div id=\"31898139-c2c5-4109-8afd-5a5fb617048a\" class=\"plotly-graph-div\" style=\"height:525px; width:100%;\"></div>            <script type=\"text/javascript\">                require([\"plotly\"], function(Plotly) {                    window.PLOTLYENV=window.PLOTLYENV || {};                                    if (document.getElementById(\"31898139-c2c5-4109-8afd-5a5fb617048a\")) {                    Plotly.newPlot(                        \"31898139-c2c5-4109-8afd-5a5fb617048a\",                        [{\"coloraxis\": \"coloraxis\", \"geo\": \"geo\", \"hovertemplate\": \"<b>%{hovertext}</b><br><br>HQ State Code=%{location}<br>Volume=%{z}<extra></extra>\", \"hovertext\": [\"Arizona\", \"California\", \"Connecticut\", \"Florida\", \"Idaho\", \"Massachusetts\", \"Montana\", \"North Carolina\", \"New Jersey\", \"New York\", \"Texas\", \"Washington\", \"Wisconsin\"], \"locationmode\": \"USA-states\", \"locations\": [\"AZ\", \"CA\", \"CT\", \"FL\", \"ID\", \"MA\", \"MT\", \"NC\", \"NJ\", \"NY\", \"TX\", \"WA\", \"WI\"], \"name\": \"\", \"type\": \"choropleth\", \"z\": [1, 33, 1, 1, 1, 1, 1, 1, 1, 2, 4, 2, 1]}, {\"locationmode\": \"USA-states\", \"locations\": [\"AZ\", \"CA\", \"CT\", \"FL\", \"ID\", \"MA\", \"MT\", \"NC\", \"NJ\", \"NY\", \"TX\", \"WA\", \"WI\"], \"mode\": \"text\", \"text\": [\"AZ\", \"CA\", \"CT\", \"FL\", \"ID\", \"MA\", \"MT\", \"NC\", \"NJ\", \"NY\", \"TX\", \"WA\", \"WI\"], \"type\": \"scattergeo\"}],                        {\"coloraxis\": {\"colorbar\": {\"title\": {\"text\": \"Volume\"}}, \"colorscale\": [[0.0, \"rgb(94,79,162)\"], [0.1, \"rgb(50,136,189)\"], [0.2, \"rgb(102,194,165)\"], [0.3, \"rgb(171,221,164)\"], [0.4, \"rgb(230,245,152)\"], [0.5, \"rgb(255,255,191)\"], [0.6, \"rgb(254,224,139)\"], [0.7, \"rgb(253,174,97)\"], [0.8, \"rgb(244,109,67)\"], [0.9, \"rgb(213,62,79)\"], [1.0, \"rgb(158,1,66)\"]]}, \"geo\": {\"center\": {}, \"domain\": {\"x\": [0.0, 1.0], \"y\": [0.0, 1.0]}, \"scope\": \"usa\"}, \"legend\": {\"tracegroupgap\": 0}, \"margin\": {\"t\": 60}, \"template\": {\"data\": {\"bar\": [{\"error_x\": {\"color\": \"#2a3f5f\"}, \"error_y\": {\"color\": \"#2a3f5f\"}, \"marker\": {\"line\": {\"color\": \"#E5ECF6\", \"width\": 0.5}}, \"type\": \"bar\"}], \"barpolar\": [{\"marker\": {\"line\": {\"color\": \"#E5ECF6\", \"width\": 0.5}}, \"type\": \"barpolar\"}], \"carpet\": [{\"aaxis\": {\"endlinecolor\": \"#2a3f5f\", \"gridcolor\": \"white\", \"linecolor\": \"white\", \"minorgridcolor\": \"white\", \"startlinecolor\": \"#2a3f5f\"}, \"baxis\": {\"endlinecolor\": \"#2a3f5f\", \"gridcolor\": \"white\", \"linecolor\": \"white\", \"minorgridcolor\": \"white\", \"startlinecolor\": \"#2a3f5f\"}, \"type\": \"carpet\"}], \"choropleth\": [{\"colorbar\": {\"outlinewidth\": 0, \"ticks\": \"\"}, \"type\": \"choropleth\"}], \"contour\": [{\"colorbar\": {\"outlinewidth\": 0, \"ticks\": \"\"}, \"colorscale\": [[0.0, \"#0d0887\"], [0.1111111111111111, \"#46039f\"], [0.2222222222222222, \"#7201a8\"], [0.3333333333333333, \"#9c179e\"], [0.4444444444444444, \"#bd3786\"], [0.5555555555555556, \"#d8576b\"], [0.6666666666666666, \"#ed7953\"], [0.7777777777777778, \"#fb9f3a\"], [0.8888888888888888, \"#fdca26\"], [1.0, \"#f0f921\"]], \"type\": \"contour\"}], \"contourcarpet\": [{\"colorbar\": {\"outlinewidth\": 0, \"ticks\": \"\"}, \"type\": \"contourcarpet\"}], \"heatmap\": [{\"colorbar\": {\"outlinewidth\": 0, \"ticks\": \"\"}, \"colorscale\": [[0.0, \"#0d0887\"], [0.1111111111111111, \"#46039f\"], [0.2222222222222222, \"#7201a8\"], [0.3333333333333333, \"#9c179e\"], [0.4444444444444444, \"#bd3786\"], [0.5555555555555556, \"#d8576b\"], [0.6666666666666666, \"#ed7953\"], [0.7777777777777778, \"#fb9f3a\"], [0.8888888888888888, \"#fdca26\"], [1.0, \"#f0f921\"]], \"type\": \"heatmap\"}], \"heatmapgl\": [{\"colorbar\": {\"outlinewidth\": 0, \"ticks\": \"\"}, \"colorscale\": [[0.0, \"#0d0887\"], [0.1111111111111111, \"#46039f\"], [0.2222222222222222, \"#7201a8\"], [0.3333333333333333, \"#9c179e\"], [0.4444444444444444, \"#bd3786\"], [0.5555555555555556, \"#d8576b\"], [0.6666666666666666, \"#ed7953\"], [0.7777777777777778, \"#fb9f3a\"], [0.8888888888888888, \"#fdca26\"], [1.0, \"#f0f921\"]], \"type\": \"heatmapgl\"}], \"histogram\": [{\"marker\": {\"colorbar\": {\"outlinewidth\": 0, \"ticks\": \"\"}}, \"type\": \"histogram\"}], \"histogram2d\": [{\"colorbar\": {\"outlinewidth\": 0, \"ticks\": \"\"}, \"colorscale\": [[0.0, \"#0d0887\"], [0.1111111111111111, \"#46039f\"], [0.2222222222222222, \"#7201a8\"], [0.3333333333333333, \"#9c179e\"], [0.4444444444444444, \"#bd3786\"], [0.5555555555555556, \"#d8576b\"], [0.6666666666666666, \"#ed7953\"], [0.7777777777777778, \"#fb9f3a\"], [0.8888888888888888, \"#fdca26\"], [1.0, \"#f0f921\"]], \"type\": \"histogram2d\"}], \"histogram2dcontour\": [{\"colorbar\": {\"outlinewidth\": 0, \"ticks\": \"\"}, \"colorscale\": [[0.0, \"#0d0887\"], [0.1111111111111111, \"#46039f\"], [0.2222222222222222, \"#7201a8\"], [0.3333333333333333, \"#9c179e\"], [0.4444444444444444, \"#bd3786\"], [0.5555555555555556, \"#d8576b\"], [0.6666666666666666, \"#ed7953\"], [0.7777777777777778, \"#fb9f3a\"], [0.8888888888888888, \"#fdca26\"], [1.0, \"#f0f921\"]], \"type\": \"histogram2dcontour\"}], \"mesh3d\": [{\"colorbar\": {\"outlinewidth\": 0, \"ticks\": \"\"}, \"type\": \"mesh3d\"}], \"parcoords\": [{\"line\": {\"colorbar\": {\"outlinewidth\": 0, \"ticks\": \"\"}}, \"type\": \"parcoords\"}], \"pie\": [{\"automargin\": true, \"type\": \"pie\"}], \"scatter\": [{\"marker\": {\"colorbar\": {\"outlinewidth\": 0, \"ticks\": \"\"}}, \"type\": \"scatter\"}], \"scatter3d\": [{\"line\": {\"colorbar\": {\"outlinewidth\": 0, \"ticks\": \"\"}}, \"marker\": {\"colorbar\": {\"outlinewidth\": 0, \"ticks\": \"\"}}, \"type\": \"scatter3d\"}], \"scattercarpet\": [{\"marker\": {\"colorbar\": {\"outlinewidth\": 0, \"ticks\": \"\"}}, \"type\": \"scattercarpet\"}], \"scattergeo\": [{\"marker\": {\"colorbar\": {\"outlinewidth\": 0, \"ticks\": \"\"}}, \"type\": \"scattergeo\"}], \"scattergl\": [{\"marker\": {\"colorbar\": {\"outlinewidth\": 0, \"ticks\": \"\"}}, \"type\": \"scattergl\"}], \"scattermapbox\": [{\"marker\": {\"colorbar\": {\"outlinewidth\": 0, \"ticks\": \"\"}}, \"type\": \"scattermapbox\"}], \"scatterpolar\": [{\"marker\": {\"colorbar\": {\"outlinewidth\": 0, \"ticks\": \"\"}}, \"type\": \"scatterpolar\"}], \"scatterpolargl\": [{\"marker\": {\"colorbar\": {\"outlinewidth\": 0, \"ticks\": \"\"}}, \"type\": \"scatterpolargl\"}], \"scatterternary\": [{\"marker\": {\"colorbar\": {\"outlinewidth\": 0, \"ticks\": \"\"}}, \"type\": \"scatterternary\"}], \"surface\": [{\"colorbar\": {\"outlinewidth\": 0, \"ticks\": \"\"}, \"colorscale\": [[0.0, \"#0d0887\"], [0.1111111111111111, \"#46039f\"], [0.2222222222222222, \"#7201a8\"], [0.3333333333333333, \"#9c179e\"], [0.4444444444444444, \"#bd3786\"], [0.5555555555555556, \"#d8576b\"], [0.6666666666666666, \"#ed7953\"], [0.7777777777777778, \"#fb9f3a\"], [0.8888888888888888, \"#fdca26\"], [1.0, \"#f0f921\"]], \"type\": \"surface\"}], \"table\": [{\"cells\": {\"fill\": {\"color\": \"#EBF0F8\"}, \"line\": {\"color\": \"white\"}}, \"header\": {\"fill\": {\"color\": \"#C8D4E3\"}, \"line\": {\"color\": \"white\"}}, \"type\": \"table\"}]}, \"layout\": {\"annotationdefaults\": {\"arrowcolor\": \"#2a3f5f\", \"arrowhead\": 0, \"arrowwidth\": 1}, \"autotypenumbers\": \"strict\", \"coloraxis\": {\"colorbar\": {\"outlinewidth\": 0, \"ticks\": \"\"}}, \"colorscale\": {\"diverging\": [[0, \"#8e0152\"], [0.1, \"#c51b7d\"], [0.2, \"#de77ae\"], [0.3, \"#f1b6da\"], [0.4, \"#fde0ef\"], [0.5, \"#f7f7f7\"], [0.6, \"#e6f5d0\"], [0.7, \"#b8e186\"], [0.8, \"#7fbc41\"], [0.9, \"#4d9221\"], [1, \"#276419\"]], \"sequential\": [[0.0, \"#0d0887\"], [0.1111111111111111, \"#46039f\"], [0.2222222222222222, \"#7201a8\"], [0.3333333333333333, \"#9c179e\"], [0.4444444444444444, \"#bd3786\"], [0.5555555555555556, \"#d8576b\"], [0.6666666666666666, \"#ed7953\"], [0.7777777777777778, \"#fb9f3a\"], [0.8888888888888888, \"#fdca26\"], [1.0, \"#f0f921\"]], \"sequentialminus\": [[0.0, \"#0d0887\"], [0.1111111111111111, \"#46039f\"], [0.2222222222222222, \"#7201a8\"], [0.3333333333333333, \"#9c179e\"], [0.4444444444444444, \"#bd3786\"], [0.5555555555555556, \"#d8576b\"], [0.6666666666666666, \"#ed7953\"], [0.7777777777777778, \"#fb9f3a\"], [0.8888888888888888, \"#fdca26\"], [1.0, \"#f0f921\"]]}, \"colorway\": [\"#636efa\", \"#EF553B\", \"#00cc96\", \"#ab63fa\", \"#FFA15A\", \"#19d3f3\", \"#FF6692\", \"#B6E880\", \"#FF97FF\", \"#FECB52\"], \"font\": {\"color\": \"#2a3f5f\"}, \"geo\": {\"bgcolor\": \"white\", \"lakecolor\": \"white\", \"landcolor\": \"#E5ECF6\", \"showlakes\": true, \"showland\": true, \"subunitcolor\": \"white\"}, \"hoverlabel\": {\"align\": \"left\"}, \"hovermode\": \"closest\", \"mapbox\": {\"style\": \"light\"}, \"paper_bgcolor\": \"white\", \"plot_bgcolor\": \"#E5ECF6\", \"polar\": {\"angularaxis\": {\"gridcolor\": \"white\", \"linecolor\": \"white\", \"ticks\": \"\"}, \"bgcolor\": \"#E5ECF6\", \"radialaxis\": {\"gridcolor\": \"white\", \"linecolor\": \"white\", \"ticks\": \"\"}}, \"scene\": {\"xaxis\": {\"backgroundcolor\": \"#E5ECF6\", \"gridcolor\": \"white\", \"gridwidth\": 2, \"linecolor\": \"white\", \"showbackground\": true, \"ticks\": \"\", \"zerolinecolor\": \"white\"}, \"yaxis\": {\"backgroundcolor\": \"#E5ECF6\", \"gridcolor\": \"white\", \"gridwidth\": 2, \"linecolor\": \"white\", \"showbackground\": true, \"ticks\": \"\", \"zerolinecolor\": \"white\"}, \"zaxis\": {\"backgroundcolor\": \"#E5ECF6\", \"gridcolor\": \"white\", \"gridwidth\": 2, \"linecolor\": \"white\", \"showbackground\": true, \"ticks\": \"\", \"zerolinecolor\": \"white\"}}, \"shapedefaults\": {\"line\": {\"color\": \"#2a3f5f\"}}, \"ternary\": {\"aaxis\": {\"gridcolor\": \"white\", \"linecolor\": \"white\", \"ticks\": \"\"}, \"baxis\": {\"gridcolor\": \"white\", \"linecolor\": \"white\", \"ticks\": \"\"}, \"bgcolor\": \"#E5ECF6\", \"caxis\": {\"gridcolor\": \"white\", \"linecolor\": \"white\", \"ticks\": \"\"}}, \"title\": {\"x\": 0.05}, \"xaxis\": {\"automargin\": true, \"gridcolor\": \"white\", \"linecolor\": \"white\", \"ticks\": \"\", \"title\": {\"standoff\": 15}, \"zerolinecolor\": \"white\", \"zerolinewidth\": 2}, \"yaxis\": {\"automargin\": true, \"gridcolor\": \"white\", \"linecolor\": \"white\", \"ticks\": \"\", \"title\": {\"standoff\": 15}, \"zerolinecolor\": \"white\", \"zerolinewidth\": 2}}}, \"title\": {\"text\": \"Volume of Companies per State\", \"x\": 0.5, \"xanchor\": \"center\", \"yanchor\": \"top\"}},                        {\"responsive\": true}                    ).then(function(){\n",
       "                            \n",
       "var gd = document.getElementById('31898139-c2c5-4109-8afd-5a5fb617048a');\n",
       "var x = new MutationObserver(function (mutations, observer) {{\n",
       "        var display = window.getComputedStyle(gd).display;\n",
       "        if (!display || display === 'none') {{\n",
       "            console.log([gd, 'removed!']);\n",
       "            Plotly.purge(gd);\n",
       "            observer.disconnect();\n",
       "        }}\n",
       "}});\n",
       "\n",
       "// Listen for the removal of the full notebook cells\n",
       "var notebookContainer = gd.closest('#notebook-container');\n",
       "if (notebookContainer) {{\n",
       "    x.observe(notebookContainer, {childList: true});\n",
       "}}\n",
       "\n",
       "// Listen for the clearing of the current output cell\n",
       "var outputEl = gd.closest('.output');\n",
       "if (outputEl) {{\n",
       "    x.observe(outputEl, {childList: true});\n",
       "}}\n",
       "\n",
       "                        })                };                });            </script>        </div>"
      ]
     },
     "metadata": {},
     "output_type": "display_data"
    }
   ],
   "source": [
    "fig = px.choropleth(volume_per_area,\n",
    "                    locations='HQ State Code',\n",
    "                    color='Volume',\n",
    "                    color_continuous_scale='spectral_r',\n",
    "                    hover_name='HQ State',\n",
    "                    locationmode='USA-states',\n",
    "                    labels={'HQ State':'Volume'},\n",
    "                    scope='usa'\n",
    "                   )\n",
    "\n",
    "fig.add_scattergeo(\n",
    "    locations=volume_per_area['HQ State Code'],\n",
    "    locationmode='USA-states',\n",
    "    text=volume_per_area['HQ State Code'],\n",
    "    mode='text'\n",
    ")\n",
    "\n",
    "fig.update_layout(title= {'text':'Volume of Companies per State',\n",
    "                          'xanchor':'center',\n",
    "                          'yanchor':'top',\n",
    "                          'x':0.5})\n",
    "fig.show()"
   ]
  },
  {
   "cell_type": "code",
   "execution_count": 94,
   "id": "happy-wages",
   "metadata": {},
   "outputs": [
    {
     "data": {
      "text/html": [
       "<div>\n",
       "<style scoped>\n",
       "    .dataframe tbody tr th:only-of-type {\n",
       "        vertical-align: middle;\n",
       "    }\n",
       "\n",
       "    .dataframe tbody tr th {\n",
       "        vertical-align: top;\n",
       "    }\n",
       "\n",
       "    .dataframe thead th {\n",
       "        text-align: right;\n",
       "    }\n",
       "</style>\n",
       "<table border=\"1\" class=\"dataframe\">\n",
       "  <thead>\n",
       "    <tr style=\"text-align: right;\">\n",
       "      <th></th>\n",
       "      <th>Company Name</th>\n",
       "      <th>Industry</th>\n",
       "      <th>Sector</th>\n",
       "      <th>HQ State</th>\n",
       "      <th>Founding Year</th>\n",
       "      <th>Annual Revenue 2022-2023 (USD in Billions)</th>\n",
       "      <th>Market Cap (USD in Trillions)</th>\n",
       "      <th>Stock Name</th>\n",
       "      <th>Annual Income Tax in 2022-2023 (USD in Billions)</th>\n",
       "      <th>Employee Size</th>\n",
       "      <th>HQ State Code</th>\n",
       "    </tr>\n",
       "  </thead>\n",
       "  <tbody>\n",
       "    <tr>\n",
       "      <th>0</th>\n",
       "      <td>Apple Inc.</td>\n",
       "      <td>Technology</td>\n",
       "      <td>Consumer Electronics</td>\n",
       "      <td>California</td>\n",
       "      <td>1976</td>\n",
       "      <td>387.53</td>\n",
       "      <td>2.520</td>\n",
       "      <td>AAPL</td>\n",
       "      <td>18.314</td>\n",
       "      <td>164000</td>\n",
       "      <td>CA</td>\n",
       "    </tr>\n",
       "    <tr>\n",
       "      <th>1</th>\n",
       "      <td>Microsoft Corporation</td>\n",
       "      <td>Technology</td>\n",
       "      <td>Software Infrastructure</td>\n",
       "      <td>Washington</td>\n",
       "      <td>1975</td>\n",
       "      <td>204.09</td>\n",
       "      <td>2.037</td>\n",
       "      <td>MSFT</td>\n",
       "      <td>15.139</td>\n",
       "      <td>221000</td>\n",
       "      <td>WA</td>\n",
       "    </tr>\n",
       "    <tr>\n",
       "      <th>2</th>\n",
       "      <td>Alphabet (Google)</td>\n",
       "      <td>Technology</td>\n",
       "      <td>Software Infrastructure</td>\n",
       "      <td>California</td>\n",
       "      <td>1998</td>\n",
       "      <td>282.83</td>\n",
       "      <td>1.350</td>\n",
       "      <td>GOOG</td>\n",
       "      <td>11.356</td>\n",
       "      <td>190234</td>\n",
       "      <td>CA</td>\n",
       "    </tr>\n",
       "    <tr>\n",
       "      <th>3</th>\n",
       "      <td>Amazon</td>\n",
       "      <td>Technology</td>\n",
       "      <td>Software Application</td>\n",
       "      <td>Washington</td>\n",
       "      <td>1994</td>\n",
       "      <td>513.98</td>\n",
       "      <td>1.030</td>\n",
       "      <td>AMZN</td>\n",
       "      <td>-3.217</td>\n",
       "      <td>1541000</td>\n",
       "      <td>WA</td>\n",
       "    </tr>\n",
       "    <tr>\n",
       "      <th>4</th>\n",
       "      <td>NVIDIA Corporation</td>\n",
       "      <td>Technology</td>\n",
       "      <td>Semiconductors</td>\n",
       "      <td>California</td>\n",
       "      <td>1993</td>\n",
       "      <td>26.97</td>\n",
       "      <td>0.653</td>\n",
       "      <td>NVDA</td>\n",
       "      <td>0.189</td>\n",
       "      <td>22473</td>\n",
       "      <td>CA</td>\n",
       "    </tr>\n",
       "    <tr>\n",
       "      <th>5</th>\n",
       "      <td>Tesla</td>\n",
       "      <td>Technology</td>\n",
       "      <td>Software Infrastructure</td>\n",
       "      <td>Texas</td>\n",
       "      <td>2003</td>\n",
       "      <td>81.46</td>\n",
       "      <td>0.625</td>\n",
       "      <td>TSLA</td>\n",
       "      <td>1.132</td>\n",
       "      <td>127855</td>\n",
       "      <td>TX</td>\n",
       "    </tr>\n",
       "    <tr>\n",
       "      <th>6</th>\n",
       "      <td>Meta Platforms</td>\n",
       "      <td>Technology</td>\n",
       "      <td>Software Infrastructure</td>\n",
       "      <td>California</td>\n",
       "      <td>2004</td>\n",
       "      <td>116.60</td>\n",
       "      <td>0.524</td>\n",
       "      <td>META</td>\n",
       "      <td>5.619</td>\n",
       "      <td>86482</td>\n",
       "      <td>CA</td>\n",
       "    </tr>\n",
       "    <tr>\n",
       "      <th>7</th>\n",
       "      <td>Broadcom Inc.</td>\n",
       "      <td>Technology</td>\n",
       "      <td>Semiconductors</td>\n",
       "      <td>California</td>\n",
       "      <td>1961</td>\n",
       "      <td>34.41</td>\n",
       "      <td>0.266</td>\n",
       "      <td>AVGO</td>\n",
       "      <td>0.939</td>\n",
       "      <td>20000</td>\n",
       "      <td>CA</td>\n",
       "    </tr>\n",
       "    <tr>\n",
       "      <th>8</th>\n",
       "      <td>Oracle Corporation</td>\n",
       "      <td>Technology</td>\n",
       "      <td>Software Infrastructure</td>\n",
       "      <td>Texas</td>\n",
       "      <td>1977</td>\n",
       "      <td>46.07</td>\n",
       "      <td>0.236</td>\n",
       "      <td>ORCL</td>\n",
       "      <td>0.932</td>\n",
       "      <td>143000</td>\n",
       "      <td>TX</td>\n",
       "    </tr>\n",
       "    <tr>\n",
       "      <th>9</th>\n",
       "      <td>Cisco Systems Inc.</td>\n",
       "      <td>Technology</td>\n",
       "      <td>Communication Equipments</td>\n",
       "      <td>California</td>\n",
       "      <td>1984</td>\n",
       "      <td>53.16</td>\n",
       "      <td>0.208</td>\n",
       "      <td>CSCO</td>\n",
       "      <td>2.665</td>\n",
       "      <td>83300</td>\n",
       "      <td>CA</td>\n",
       "    </tr>\n",
       "    <tr>\n",
       "      <th>10</th>\n",
       "      <td>Salesforce Inc.</td>\n",
       "      <td>Technology</td>\n",
       "      <td>Software Application</td>\n",
       "      <td>California</td>\n",
       "      <td>1999</td>\n",
       "      <td>31.35</td>\n",
       "      <td>0.189</td>\n",
       "      <td>CRM</td>\n",
       "      <td>0.452</td>\n",
       "      <td>73541</td>\n",
       "      <td>CA</td>\n",
       "    </tr>\n",
       "    <tr>\n",
       "      <th>11</th>\n",
       "      <td>Adobe Inc.</td>\n",
       "      <td>Technology</td>\n",
       "      <td>Software Infrastructure</td>\n",
       "      <td>California</td>\n",
       "      <td>1982</td>\n",
       "      <td>17.60</td>\n",
       "      <td>0.172</td>\n",
       "      <td>ADBE</td>\n",
       "      <td>1.252</td>\n",
       "      <td>29239</td>\n",
       "      <td>CA</td>\n",
       "    </tr>\n",
       "    <tr>\n",
       "      <th>12</th>\n",
       "      <td>Texas Instruments Inc.</td>\n",
       "      <td>Technology</td>\n",
       "      <td>Semiconductors</td>\n",
       "      <td>Texas</td>\n",
       "      <td>1930</td>\n",
       "      <td>20.02</td>\n",
       "      <td>0.162</td>\n",
       "      <td>TXN</td>\n",
       "      <td>1.283</td>\n",
       "      <td>33000</td>\n",
       "      <td>TX</td>\n",
       "    </tr>\n",
       "    <tr>\n",
       "      <th>13</th>\n",
       "      <td>Advanced Micro Devices (AMD) Inc.</td>\n",
       "      <td>Technology</td>\n",
       "      <td>Semiconductors</td>\n",
       "      <td>California</td>\n",
       "      <td>1969</td>\n",
       "      <td>23.60</td>\n",
       "      <td>0.155</td>\n",
       "      <td>AMD</td>\n",
       "      <td>-0.122</td>\n",
       "      <td>25000</td>\n",
       "      <td>CA</td>\n",
       "    </tr>\n",
       "    <tr>\n",
       "      <th>14</th>\n",
       "      <td>Qualcomm Inc.</td>\n",
       "      <td>Technology</td>\n",
       "      <td>Semiconductors</td>\n",
       "      <td>California</td>\n",
       "      <td>1985</td>\n",
       "      <td>42.95</td>\n",
       "      <td>0.138</td>\n",
       "      <td>QCOM</td>\n",
       "      <td>2.012</td>\n",
       "      <td>51000</td>\n",
       "      <td>CA</td>\n",
       "    </tr>\n",
       "    <tr>\n",
       "      <th>15</th>\n",
       "      <td>Netflix</td>\n",
       "      <td>Technology</td>\n",
       "      <td>Software Application</td>\n",
       "      <td>California</td>\n",
       "      <td>1997</td>\n",
       "      <td>31.61</td>\n",
       "      <td>0.136</td>\n",
       "      <td>NFLX</td>\n",
       "      <td>0.772</td>\n",
       "      <td>12800</td>\n",
       "      <td>CA</td>\n",
       "    </tr>\n",
       "    <tr>\n",
       "      <th>16</th>\n",
       "      <td>Intel Corporation</td>\n",
       "      <td>Technology</td>\n",
       "      <td>Semiconductors</td>\n",
       "      <td>California</td>\n",
       "      <td>1968</td>\n",
       "      <td>63.05</td>\n",
       "      <td>0.118</td>\n",
       "      <td>INTC</td>\n",
       "      <td>-0.249</td>\n",
       "      <td>131900</td>\n",
       "      <td>CA</td>\n",
       "    </tr>\n",
       "    <tr>\n",
       "      <th>17</th>\n",
       "      <td>Intuit Inc.</td>\n",
       "      <td>Technology</td>\n",
       "      <td>Software Application</td>\n",
       "      <td>California</td>\n",
       "      <td>1983</td>\n",
       "      <td>13.68</td>\n",
       "      <td>0.118</td>\n",
       "      <td>INTU</td>\n",
       "      <td>0.476</td>\n",
       "      <td>17300</td>\n",
       "      <td>CA</td>\n",
       "    </tr>\n",
       "    <tr>\n",
       "      <th>18</th>\n",
       "      <td>IBM Corporation</td>\n",
       "      <td>Technology</td>\n",
       "      <td>IT Services</td>\n",
       "      <td>New York</td>\n",
       "      <td>1911</td>\n",
       "      <td>60.52</td>\n",
       "      <td>0.113</td>\n",
       "      <td>IBM</td>\n",
       "      <td>-0.626</td>\n",
       "      <td>345000</td>\n",
       "      <td>NY</td>\n",
       "    </tr>\n",
       "    <tr>\n",
       "      <th>19</th>\n",
       "      <td>Applied Materials Inc.</td>\n",
       "      <td>Technology</td>\n",
       "      <td>Semiconductors</td>\n",
       "      <td>California</td>\n",
       "      <td>1967</td>\n",
       "      <td>26.25</td>\n",
       "      <td>0.102</td>\n",
       "      <td>AMAT</td>\n",
       "      <td>1.074</td>\n",
       "      <td>33000</td>\n",
       "      <td>CA</td>\n",
       "    </tr>\n",
       "    <tr>\n",
       "      <th>20</th>\n",
       "      <td>Booking Holdings</td>\n",
       "      <td>Technology</td>\n",
       "      <td>Software Application</td>\n",
       "      <td>Connecticut</td>\n",
       "      <td>1996</td>\n",
       "      <td>17.09</td>\n",
       "      <td>0.097</td>\n",
       "      <td>BKNG</td>\n",
       "      <td>0.865</td>\n",
       "      <td>20700</td>\n",
       "      <td>CT</td>\n",
       "    </tr>\n",
       "    <tr>\n",
       "      <th>21</th>\n",
       "      <td>Analog Devices Inc.</td>\n",
       "      <td>Technology</td>\n",
       "      <td>Semiconductors</td>\n",
       "      <td>Massachusetts</td>\n",
       "      <td>1965</td>\n",
       "      <td>12.57</td>\n",
       "      <td>0.095</td>\n",
       "      <td>ADI</td>\n",
       "      <td>0.350</td>\n",
       "      <td>24450</td>\n",
       "      <td>MA</td>\n",
       "    </tr>\n",
       "    <tr>\n",
       "      <th>22</th>\n",
       "      <td>ServiceNow Inc.</td>\n",
       "      <td>Technology</td>\n",
       "      <td>Software Application</td>\n",
       "      <td>California</td>\n",
       "      <td>2004</td>\n",
       "      <td>7.24</td>\n",
       "      <td>0.090</td>\n",
       "      <td>NOW</td>\n",
       "      <td>0.074</td>\n",
       "      <td>20433</td>\n",
       "      <td>CA</td>\n",
       "    </tr>\n",
       "    <tr>\n",
       "      <th>23</th>\n",
       "      <td>Automatic Data Processing</td>\n",
       "      <td>Technology</td>\n",
       "      <td>Software Application</td>\n",
       "      <td>New Jersey</td>\n",
       "      <td>1949</td>\n",
       "      <td>16.67</td>\n",
       "      <td>0.090</td>\n",
       "      <td>ADP</td>\n",
       "      <td>0.855</td>\n",
       "      <td>60000</td>\n",
       "      <td>NJ</td>\n",
       "    </tr>\n",
       "    <tr>\n",
       "      <th>24</th>\n",
       "      <td>PayPal Holdings Inc.</td>\n",
       "      <td>Technology</td>\n",
       "      <td>Software Infrastructure</td>\n",
       "      <td>California</td>\n",
       "      <td>1998</td>\n",
       "      <td>27.51</td>\n",
       "      <td>0.087</td>\n",
       "      <td>PYPL</td>\n",
       "      <td>0.947</td>\n",
       "      <td>29900</td>\n",
       "      <td>CA</td>\n",
       "    </tr>\n",
       "    <tr>\n",
       "      <th>25</th>\n",
       "      <td>Airbnb</td>\n",
       "      <td>Technology</td>\n",
       "      <td>Software Application</td>\n",
       "      <td>California</td>\n",
       "      <td>2008</td>\n",
       "      <td>8.39</td>\n",
       "      <td>0.078</td>\n",
       "      <td>ABNB</td>\n",
       "      <td>0.096</td>\n",
       "      <td>6132</td>\n",
       "      <td>CA</td>\n",
       "    </tr>\n",
       "    <tr>\n",
       "      <th>26</th>\n",
       "      <td>Fiserv Inc.</td>\n",
       "      <td>Technology</td>\n",
       "      <td>IT Services</td>\n",
       "      <td>Wisconsin</td>\n",
       "      <td>1984</td>\n",
       "      <td>17.73</td>\n",
       "      <td>0.071</td>\n",
       "      <td>FISV</td>\n",
       "      <td>0.551</td>\n",
       "      <td>44000</td>\n",
       "      <td>WI</td>\n",
       "    </tr>\n",
       "    <tr>\n",
       "      <th>27</th>\n",
       "      <td>Lam Research Corporation</td>\n",
       "      <td>Technology</td>\n",
       "      <td>Semiconductors</td>\n",
       "      <td>California</td>\n",
       "      <td>1980</td>\n",
       "      <td>19.04</td>\n",
       "      <td>0.069</td>\n",
       "      <td>LRCX</td>\n",
       "      <td>0.588</td>\n",
       "      <td>18700</td>\n",
       "      <td>CA</td>\n",
       "    </tr>\n",
       "    <tr>\n",
       "      <th>28</th>\n",
       "      <td>Uber Technologies Inc.</td>\n",
       "      <td>Technology</td>\n",
       "      <td>Software Application</td>\n",
       "      <td>California</td>\n",
       "      <td>2009</td>\n",
       "      <td>31.87</td>\n",
       "      <td>0.066</td>\n",
       "      <td>UBER</td>\n",
       "      <td>-0.181</td>\n",
       "      <td>32500</td>\n",
       "      <td>CA</td>\n",
       "    </tr>\n",
       "    <tr>\n",
       "      <th>29</th>\n",
       "      <td>Micron Technology</td>\n",
       "      <td>Technology</td>\n",
       "      <td>Semiconductors</td>\n",
       "      <td>Idaho</td>\n",
       "      <td>1978</td>\n",
       "      <td>27.15</td>\n",
       "      <td>0.064</td>\n",
       "      <td>MU</td>\n",
       "      <td>0.888</td>\n",
       "      <td>49000</td>\n",
       "      <td>ID</td>\n",
       "    </tr>\n",
       "    <tr>\n",
       "      <th>30</th>\n",
       "      <td>Equinix</td>\n",
       "      <td>Technology</td>\n",
       "      <td>IT Services</td>\n",
       "      <td>California</td>\n",
       "      <td>1998</td>\n",
       "      <td>7.26</td>\n",
       "      <td>0.064</td>\n",
       "      <td>EQIX</td>\n",
       "      <td>0.125</td>\n",
       "      <td>11451</td>\n",
       "      <td>CA</td>\n",
       "    </tr>\n",
       "    <tr>\n",
       "      <th>31</th>\n",
       "      <td>Activision Blizzard</td>\n",
       "      <td>Technology</td>\n",
       "      <td>Software Application</td>\n",
       "      <td>California</td>\n",
       "      <td>2008</td>\n",
       "      <td>7.52</td>\n",
       "      <td>0.063</td>\n",
       "      <td>ATVI</td>\n",
       "      <td>0.231</td>\n",
       "      <td>13000</td>\n",
       "      <td>CA</td>\n",
       "    </tr>\n",
       "    <tr>\n",
       "      <th>32</th>\n",
       "      <td>Palo Alto Networks Inc.</td>\n",
       "      <td>Technology</td>\n",
       "      <td>Software Infrastructure</td>\n",
       "      <td>California</td>\n",
       "      <td>2005</td>\n",
       "      <td>6.15</td>\n",
       "      <td>0.059</td>\n",
       "      <td>PANW</td>\n",
       "      <td>0.060</td>\n",
       "      <td>12561</td>\n",
       "      <td>CA</td>\n",
       "    </tr>\n",
       "    <tr>\n",
       "      <th>33</th>\n",
       "      <td>Synopsys Inc.</td>\n",
       "      <td>Technology</td>\n",
       "      <td>Software Infrastructure</td>\n",
       "      <td>California</td>\n",
       "      <td>1986</td>\n",
       "      <td>5.17</td>\n",
       "      <td>0.057</td>\n",
       "      <td>SNPS</td>\n",
       "      <td>0.137</td>\n",
       "      <td>19000</td>\n",
       "      <td>CA</td>\n",
       "    </tr>\n",
       "    <tr>\n",
       "      <th>34</th>\n",
       "      <td>Cadence Design Systems Inc.</td>\n",
       "      <td>Technology</td>\n",
       "      <td>Software Application</td>\n",
       "      <td>California</td>\n",
       "      <td>1988</td>\n",
       "      <td>3.56</td>\n",
       "      <td>0.057</td>\n",
       "      <td>CDNS</td>\n",
       "      <td>0.196</td>\n",
       "      <td>9300</td>\n",
       "      <td>CA</td>\n",
       "    </tr>\n",
       "    <tr>\n",
       "      <th>35</th>\n",
       "      <td>KLA Corporation</td>\n",
       "      <td>Technology</td>\n",
       "      <td>Semiconductors</td>\n",
       "      <td>California</td>\n",
       "      <td>1997</td>\n",
       "      <td>10.48</td>\n",
       "      <td>0.053</td>\n",
       "      <td>KLAC</td>\n",
       "      <td>0.167</td>\n",
       "      <td>14000</td>\n",
       "      <td>CA</td>\n",
       "    </tr>\n",
       "    <tr>\n",
       "      <th>36</th>\n",
       "      <td>Arista Networks Inc.</td>\n",
       "      <td>Technology</td>\n",
       "      <td>Computer Hardware</td>\n",
       "      <td>California</td>\n",
       "      <td>2004</td>\n",
       "      <td>4.38</td>\n",
       "      <td>0.052</td>\n",
       "      <td>ANET</td>\n",
       "      <td>0.229</td>\n",
       "      <td>2993</td>\n",
       "      <td>CA</td>\n",
       "    </tr>\n",
       "    <tr>\n",
       "      <th>37</th>\n",
       "      <td>VMware Inc.</td>\n",
       "      <td>Technology</td>\n",
       "      <td>Software Infrastructure</td>\n",
       "      <td>California</td>\n",
       "      <td>1998</td>\n",
       "      <td>13.34</td>\n",
       "      <td>0.051</td>\n",
       "      <td>VMW</td>\n",
       "      <td>0.265</td>\n",
       "      <td>37500</td>\n",
       "      <td>CA</td>\n",
       "    </tr>\n",
       "    <tr>\n",
       "      <th>38</th>\n",
       "      <td>Workday Inc.</td>\n",
       "      <td>Technology</td>\n",
       "      <td>Software Application</td>\n",
       "      <td>California</td>\n",
       "      <td>2005</td>\n",
       "      <td>6.21</td>\n",
       "      <td>0.049</td>\n",
       "      <td>WDAY</td>\n",
       "      <td>0.107</td>\n",
       "      <td>17522</td>\n",
       "      <td>CA</td>\n",
       "    </tr>\n",
       "    <tr>\n",
       "      <th>39</th>\n",
       "      <td>Fortinet Inc.</td>\n",
       "      <td>Technology</td>\n",
       "      <td>Software Infrastructure</td>\n",
       "      <td>California</td>\n",
       "      <td>2000</td>\n",
       "      <td>4.41</td>\n",
       "      <td>0.049</td>\n",
       "      <td>FTNT</td>\n",
       "      <td>0.031</td>\n",
       "      <td>11508</td>\n",
       "      <td>CA</td>\n",
       "    </tr>\n",
       "    <tr>\n",
       "      <th>40</th>\n",
       "      <td>Block Inc.</td>\n",
       "      <td>Technology</td>\n",
       "      <td>Software Infrastructure</td>\n",
       "      <td>California</td>\n",
       "      <td>2009</td>\n",
       "      <td>17.53</td>\n",
       "      <td>0.047</td>\n",
       "      <td>SQ</td>\n",
       "      <td>-0.012</td>\n",
       "      <td>8521</td>\n",
       "      <td>CA</td>\n",
       "    </tr>\n",
       "    <tr>\n",
       "      <th>41</th>\n",
       "      <td>Snowflake Inc.</td>\n",
       "      <td>Technology</td>\n",
       "      <td>Software Application</td>\n",
       "      <td>Montana</td>\n",
       "      <td>2012</td>\n",
       "      <td>2.06</td>\n",
       "      <td>0.046</td>\n",
       "      <td>SNOW</td>\n",
       "      <td>0.003</td>\n",
       "      <td>4991</td>\n",
       "      <td>MT</td>\n",
       "    </tr>\n",
       "    <tr>\n",
       "      <th>42</th>\n",
       "      <td>Roper Technologies</td>\n",
       "      <td>Technology</td>\n",
       "      <td>Electronic Components</td>\n",
       "      <td>Florida</td>\n",
       "      <td>1890</td>\n",
       "      <td>5.61</td>\n",
       "      <td>0.046</td>\n",
       "      <td>ROP</td>\n",
       "      <td>0.296</td>\n",
       "      <td>19300</td>\n",
       "      <td>FL</td>\n",
       "    </tr>\n",
       "    <tr>\n",
       "      <th>43</th>\n",
       "      <td>Microchip Technology Inc.</td>\n",
       "      <td>Technology</td>\n",
       "      <td>Semiconductors</td>\n",
       "      <td>Arizona</td>\n",
       "      <td>1989</td>\n",
       "      <td>8.05</td>\n",
       "      <td>0.045</td>\n",
       "      <td>MCHP</td>\n",
       "      <td>0.197</td>\n",
       "      <td>21000</td>\n",
       "      <td>AZ</td>\n",
       "    </tr>\n",
       "    <tr>\n",
       "      <th>44</th>\n",
       "      <td>Autodesk Inc.</td>\n",
       "      <td>Technology</td>\n",
       "      <td>Software Application</td>\n",
       "      <td>California</td>\n",
       "      <td>1982</td>\n",
       "      <td>5.00</td>\n",
       "      <td>0.045</td>\n",
       "      <td>ADSK</td>\n",
       "      <td>0.068</td>\n",
       "      <td>12600</td>\n",
       "      <td>CA</td>\n",
       "    </tr>\n",
       "    <tr>\n",
       "      <th>45</th>\n",
       "      <td>GlobalFoundries</td>\n",
       "      <td>Technology</td>\n",
       "      <td>Semiconductors</td>\n",
       "      <td>New York</td>\n",
       "      <td>2009</td>\n",
       "      <td>8.10</td>\n",
       "      <td>0.038</td>\n",
       "      <td>GFS</td>\n",
       "      <td>0.086</td>\n",
       "      <td>14600</td>\n",
       "      <td>NY</td>\n",
       "    </tr>\n",
       "    <tr>\n",
       "      <th>46</th>\n",
       "      <td>IQVIA Holdings</td>\n",
       "      <td>Technology</td>\n",
       "      <td>Software Application</td>\n",
       "      <td>North Carolina</td>\n",
       "      <td>1982</td>\n",
       "      <td>14.41</td>\n",
       "      <td>0.037</td>\n",
       "      <td>IQV</td>\n",
       "      <td>0.260</td>\n",
       "      <td>85000</td>\n",
       "      <td>NC</td>\n",
       "    </tr>\n",
       "    <tr>\n",
       "      <th>47</th>\n",
       "      <td>Marvell Technology Inc.</td>\n",
       "      <td>Technology</td>\n",
       "      <td>Semiconductors</td>\n",
       "      <td>California</td>\n",
       "      <td>1995</td>\n",
       "      <td>5.91</td>\n",
       "      <td>0.035</td>\n",
       "      <td>MRVL</td>\n",
       "      <td>0.249</td>\n",
       "      <td>6695</td>\n",
       "      <td>CA</td>\n",
       "    </tr>\n",
       "    <tr>\n",
       "      <th>48</th>\n",
       "      <td>Dell Technologies Inc.</td>\n",
       "      <td>Technology</td>\n",
       "      <td>Computer Hardware</td>\n",
       "      <td>Texas</td>\n",
       "      <td>1984</td>\n",
       "      <td>102.30</td>\n",
       "      <td>0.028</td>\n",
       "      <td>DELL</td>\n",
       "      <td>0.981</td>\n",
       "      <td>133000</td>\n",
       "      <td>TX</td>\n",
       "    </tr>\n",
       "    <tr>\n",
       "      <th>49</th>\n",
       "      <td>HP Inc.</td>\n",
       "      <td>Technology</td>\n",
       "      <td>Computer Hardware</td>\n",
       "      <td>California</td>\n",
       "      <td>1939</td>\n",
       "      <td>59.78</td>\n",
       "      <td>0.028</td>\n",
       "      <td>HPQ</td>\n",
       "      <td>1.238</td>\n",
       "      <td>51000</td>\n",
       "      <td>CA</td>\n",
       "    </tr>\n",
       "  </tbody>\n",
       "</table>\n",
       "</div>"
      ],
      "text/plain": [
       "                         Company Name    Industry                    Sector  \\\n",
       "0                          Apple Inc.  Technology      Consumer Electronics   \n",
       "1               Microsoft Corporation  Technology   Software Infrastructure   \n",
       "2                   Alphabet (Google)  Technology   Software Infrastructure   \n",
       "3                              Amazon  Technology      Software Application   \n",
       "4                  NVIDIA Corporation  Technology            Semiconductors   \n",
       "5                               Tesla  Technology   Software Infrastructure   \n",
       "6                      Meta Platforms  Technology   Software Infrastructure   \n",
       "7                       Broadcom Inc.  Technology            Semiconductors   \n",
       "8                  Oracle Corporation  Technology   Software Infrastructure   \n",
       "9                  Cisco Systems Inc.  Technology  Communication Equipments   \n",
       "10                    Salesforce Inc.  Technology      Software Application   \n",
       "11                         Adobe Inc.  Technology   Software Infrastructure   \n",
       "12             Texas Instruments Inc.  Technology            Semiconductors   \n",
       "13  Advanced Micro Devices (AMD) Inc.  Technology            Semiconductors   \n",
       "14                      Qualcomm Inc.  Technology            Semiconductors   \n",
       "15                            Netflix  Technology      Software Application   \n",
       "16                  Intel Corporation  Technology            Semiconductors   \n",
       "17                        Intuit Inc.  Technology      Software Application   \n",
       "18                    IBM Corporation  Technology               IT Services   \n",
       "19             Applied Materials Inc.  Technology            Semiconductors   \n",
       "20                   Booking Holdings  Technology      Software Application   \n",
       "21                Analog Devices Inc.  Technology            Semiconductors   \n",
       "22                    ServiceNow Inc.  Technology      Software Application   \n",
       "23          Automatic Data Processing  Technology      Software Application   \n",
       "24               PayPal Holdings Inc.  Technology   Software Infrastructure   \n",
       "25                             Airbnb  Technology      Software Application   \n",
       "26                        Fiserv Inc.  Technology               IT Services   \n",
       "27           Lam Research Corporation  Technology            Semiconductors   \n",
       "28             Uber Technologies Inc.  Technology      Software Application   \n",
       "29                  Micron Technology  Technology            Semiconductors   \n",
       "30                            Equinix  Technology               IT Services   \n",
       "31                Activision Blizzard  Technology      Software Application   \n",
       "32            Palo Alto Networks Inc.  Technology   Software Infrastructure   \n",
       "33                      Synopsys Inc.  Technology   Software Infrastructure   \n",
       "34        Cadence Design Systems Inc.  Technology      Software Application   \n",
       "35                    KLA Corporation  Technology            Semiconductors   \n",
       "36               Arista Networks Inc.  Technology         Computer Hardware   \n",
       "37                        VMware Inc.  Technology   Software Infrastructure   \n",
       "38                       Workday Inc.  Technology      Software Application   \n",
       "39                      Fortinet Inc.  Technology   Software Infrastructure   \n",
       "40                         Block Inc.  Technology   Software Infrastructure   \n",
       "41                     Snowflake Inc.  Technology      Software Application   \n",
       "42                 Roper Technologies  Technology     Electronic Components   \n",
       "43          Microchip Technology Inc.  Technology            Semiconductors   \n",
       "44                      Autodesk Inc.  Technology      Software Application   \n",
       "45                    GlobalFoundries  Technology            Semiconductors   \n",
       "46                     IQVIA Holdings  Technology      Software Application   \n",
       "47            Marvell Technology Inc.  Technology            Semiconductors   \n",
       "48             Dell Technologies Inc.  Technology         Computer Hardware   \n",
       "49                            HP Inc.  Technology         Computer Hardware   \n",
       "\n",
       "          HQ State  Founding Year  Annual Revenue 2022-2023 (USD in Billions)  \\\n",
       "0       California           1976                                      387.53   \n",
       "1       Washington           1975                                      204.09   \n",
       "2       California           1998                                      282.83   \n",
       "3       Washington           1994                                      513.98   \n",
       "4       California           1993                                       26.97   \n",
       "5            Texas           2003                                       81.46   \n",
       "6       California           2004                                      116.60   \n",
       "7       California           1961                                       34.41   \n",
       "8            Texas           1977                                       46.07   \n",
       "9       California           1984                                       53.16   \n",
       "10      California           1999                                       31.35   \n",
       "11      California           1982                                       17.60   \n",
       "12           Texas           1930                                       20.02   \n",
       "13      California           1969                                       23.60   \n",
       "14      California           1985                                       42.95   \n",
       "15      California           1997                                       31.61   \n",
       "16      California           1968                                       63.05   \n",
       "17      California           1983                                       13.68   \n",
       "18        New York           1911                                       60.52   \n",
       "19      California           1967                                       26.25   \n",
       "20     Connecticut           1996                                       17.09   \n",
       "21   Massachusetts           1965                                       12.57   \n",
       "22      California           2004                                        7.24   \n",
       "23      New Jersey           1949                                       16.67   \n",
       "24      California           1998                                       27.51   \n",
       "25      California           2008                                        8.39   \n",
       "26       Wisconsin           1984                                       17.73   \n",
       "27      California           1980                                       19.04   \n",
       "28      California           2009                                       31.87   \n",
       "29           Idaho           1978                                       27.15   \n",
       "30      California           1998                                        7.26   \n",
       "31      California           2008                                        7.52   \n",
       "32      California           2005                                        6.15   \n",
       "33      California           1986                                        5.17   \n",
       "34      California           1988                                        3.56   \n",
       "35      California           1997                                       10.48   \n",
       "36      California           2004                                        4.38   \n",
       "37      California           1998                                       13.34   \n",
       "38      California           2005                                        6.21   \n",
       "39      California           2000                                        4.41   \n",
       "40      California           2009                                       17.53   \n",
       "41         Montana           2012                                        2.06   \n",
       "42         Florida           1890                                        5.61   \n",
       "43         Arizona           1989                                        8.05   \n",
       "44      California           1982                                        5.00   \n",
       "45        New York           2009                                        8.10   \n",
       "46  North Carolina           1982                                       14.41   \n",
       "47      California           1995                                        5.91   \n",
       "48           Texas           1984                                      102.30   \n",
       "49      California           1939                                       59.78   \n",
       "\n",
       "    Market Cap (USD in Trillions) Stock Name  \\\n",
       "0                           2.520       AAPL   \n",
       "1                           2.037       MSFT   \n",
       "2                           1.350       GOOG   \n",
       "3                           1.030       AMZN   \n",
       "4                           0.653       NVDA   \n",
       "5                           0.625       TSLA   \n",
       "6                           0.524       META   \n",
       "7                           0.266       AVGO   \n",
       "8                           0.236       ORCL   \n",
       "9                           0.208       CSCO   \n",
       "10                          0.189        CRM   \n",
       "11                          0.172       ADBE   \n",
       "12                          0.162        TXN   \n",
       "13                          0.155        AMD   \n",
       "14                          0.138       QCOM   \n",
       "15                          0.136       NFLX   \n",
       "16                          0.118       INTC   \n",
       "17                          0.118       INTU   \n",
       "18                          0.113        IBM   \n",
       "19                          0.102       AMAT   \n",
       "20                          0.097       BKNG   \n",
       "21                          0.095        ADI   \n",
       "22                          0.090        NOW   \n",
       "23                          0.090        ADP   \n",
       "24                          0.087       PYPL   \n",
       "25                          0.078       ABNB   \n",
       "26                          0.071       FISV   \n",
       "27                          0.069       LRCX   \n",
       "28                          0.066       UBER   \n",
       "29                          0.064         MU   \n",
       "30                          0.064       EQIX   \n",
       "31                          0.063       ATVI   \n",
       "32                          0.059       PANW   \n",
       "33                          0.057       SNPS   \n",
       "34                          0.057       CDNS   \n",
       "35                          0.053       KLAC   \n",
       "36                          0.052       ANET   \n",
       "37                          0.051        VMW   \n",
       "38                          0.049       WDAY   \n",
       "39                          0.049       FTNT   \n",
       "40                          0.047         SQ   \n",
       "41                          0.046       SNOW   \n",
       "42                          0.046        ROP   \n",
       "43                          0.045       MCHP   \n",
       "44                          0.045       ADSK   \n",
       "45                          0.038        GFS   \n",
       "46                          0.037        IQV   \n",
       "47                          0.035       MRVL   \n",
       "48                          0.028       DELL   \n",
       "49                          0.028        HPQ   \n",
       "\n",
       "    Annual Income Tax in 2022-2023 (USD in Billions)  Employee Size  \\\n",
       "0                                             18.314         164000   \n",
       "1                                             15.139         221000   \n",
       "2                                             11.356         190234   \n",
       "3                                             -3.217        1541000   \n",
       "4                                              0.189          22473   \n",
       "5                                              1.132         127855   \n",
       "6                                              5.619          86482   \n",
       "7                                              0.939          20000   \n",
       "8                                              0.932         143000   \n",
       "9                                              2.665          83300   \n",
       "10                                             0.452          73541   \n",
       "11                                             1.252          29239   \n",
       "12                                             1.283          33000   \n",
       "13                                            -0.122          25000   \n",
       "14                                             2.012          51000   \n",
       "15                                             0.772          12800   \n",
       "16                                            -0.249         131900   \n",
       "17                                             0.476          17300   \n",
       "18                                            -0.626         345000   \n",
       "19                                             1.074          33000   \n",
       "20                                             0.865          20700   \n",
       "21                                             0.350          24450   \n",
       "22                                             0.074          20433   \n",
       "23                                             0.855          60000   \n",
       "24                                             0.947          29900   \n",
       "25                                             0.096           6132   \n",
       "26                                             0.551          44000   \n",
       "27                                             0.588          18700   \n",
       "28                                            -0.181          32500   \n",
       "29                                             0.888          49000   \n",
       "30                                             0.125          11451   \n",
       "31                                             0.231          13000   \n",
       "32                                             0.060          12561   \n",
       "33                                             0.137          19000   \n",
       "34                                             0.196           9300   \n",
       "35                                             0.167          14000   \n",
       "36                                             0.229           2993   \n",
       "37                                             0.265          37500   \n",
       "38                                             0.107          17522   \n",
       "39                                             0.031          11508   \n",
       "40                                            -0.012           8521   \n",
       "41                                             0.003           4991   \n",
       "42                                             0.296          19300   \n",
       "43                                             0.197          21000   \n",
       "44                                             0.068          12600   \n",
       "45                                             0.086          14600   \n",
       "46                                             0.260          85000   \n",
       "47                                             0.249           6695   \n",
       "48                                             0.981         133000   \n",
       "49                                             1.238          51000   \n",
       "\n",
       "   HQ State Code  \n",
       "0             CA  \n",
       "1             WA  \n",
       "2             CA  \n",
       "3             WA  \n",
       "4             CA  \n",
       "5             TX  \n",
       "6             CA  \n",
       "7             CA  \n",
       "8             TX  \n",
       "9             CA  \n",
       "10            CA  \n",
       "11            CA  \n",
       "12            TX  \n",
       "13            CA  \n",
       "14            CA  \n",
       "15            CA  \n",
       "16            CA  \n",
       "17            CA  \n",
       "18            NY  \n",
       "19            CA  \n",
       "20            CT  \n",
       "21            MA  \n",
       "22            CA  \n",
       "23            NJ  \n",
       "24            CA  \n",
       "25            CA  \n",
       "26            WI  \n",
       "27            CA  \n",
       "28            CA  \n",
       "29            ID  \n",
       "30            CA  \n",
       "31            CA  \n",
       "32            CA  \n",
       "33            CA  \n",
       "34            CA  \n",
       "35            CA  \n",
       "36            CA  \n",
       "37            CA  \n",
       "38            CA  \n",
       "39            CA  \n",
       "40            CA  \n",
       "41            MT  \n",
       "42            FL  \n",
       "43            AZ  \n",
       "44            CA  \n",
       "45            NY  \n",
       "46            NC  \n",
       "47            CA  \n",
       "48            TX  \n",
       "49            CA  "
      ]
     },
     "execution_count": 94,
     "metadata": {},
     "output_type": "execute_result"
    }
   ],
   "source": [
    "df"
   ]
  },
  {
   "cell_type": "code",
   "execution_count": null,
   "id": "nutritional-empty",
   "metadata": {},
   "outputs": [],
   "source": []
  }
 ],
 "metadata": {
  "kernelspec": {
   "display_name": "Python 3",
   "language": "python",
   "name": "python3"
  },
  "language_info": {
   "codemirror_mode": {
    "name": "ipython",
    "version": 3
   },
   "file_extension": ".py",
   "mimetype": "text/x-python",
   "name": "python",
   "nbconvert_exporter": "python",
   "pygments_lexer": "ipython3",
   "version": "3.9.2"
  }
 },
 "nbformat": 4,
 "nbformat_minor": 5
}
